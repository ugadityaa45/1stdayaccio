{
  "cells": [
    {
      "cell_type": "markdown",
      "metadata": {
        "id": "view-in-github",
        "colab_type": "text"
      },
      "source": [
        "<a href=\"https://colab.research.google.com/github/ugadityaa45/1stdayaccio/blob/main/Another_copy_of_Data_structure_Practice_Assignment.ipynb\" target=\"_parent\"><img src=\"https://colab.research.google.com/assets/colab-badge.svg\" alt=\"Open In Colab\"/></a>"
      ]
    },
    {
      "cell_type": "markdown",
      "metadata": {
        "id": "8pRf9jW4fyVP"
      },
      "source": [
        "# Lists, Tuples, and Sets : Practice Assignment\n",
        "\n",
        "### Dear students these question will help you build a very strong foundation on data structures specificaly as data analyst\n",
        "\n",
        "Each problem has:\n",
        "- **Problem statement**\n",
        "- **What the expected answer should look like** (an example of the final result/state)\n",
        "- An **empty code cell** for you to solve it (look for `# write your code here`).\n",
        "\n",
        "> Tip: Run cells independently."
      ],
      "id": "8pRf9jW4fyVP"
    },
    {
      "cell_type": "markdown",
      "metadata": {
        "id": "dIbr5ZfofyVS"
      },
      "source": [
        "### List Q1\n",
        "\n",
        "**Problem:** Write a program to retrieve the value 4 from the list `my_list = [[1, 2], [3, 4], [5, 6]]` using indexing.\n",
        "\n",
        "**Expected answer should look like (example):**\n",
        "```\n",
        "4\n",
        "```"
      ],
      "id": "dIbr5ZfofyVS"
    },
    {
      "cell_type": "code",
      "execution_count": null,
      "metadata": {
        "id": "qKpIQgUPfyVS",
        "colab": {
          "base_uri": "https://localhost:8080/"
        },
        "outputId": "16ea936d-ab5c-4d07-9dc7-91c6efe8f3f2"
      },
      "outputs": [
        {
          "output_type": "stream",
          "name": "stdout",
          "text": [
            "4\n"
          ]
        }
      ],
      "source": [
        "# write your code here\n",
        "my_list = [[1, 2], [3, 4], [5, 6]]\n",
        "print(my_list[1][1])"
      ],
      "id": "qKpIQgUPfyVS"
    },
    {
      "cell_type": "markdown",
      "metadata": {
        "id": "qErZqUJvfyVT"
      },
      "source": [
        "### List Q2\n",
        "\n",
        "**Problem:** Write a program to reverse the list `[10, 20, 30, 40, 50]` using slicing and explain how the slicing parameters achieve the result.\n",
        "\n",
        "**Expected answer should look like (example):**\n",
        "```\n",
        "[50, 40, 30, 20, 10]  # slicing: lst[::-1] (start:end:step=-1)\n",
        "```"
      ],
      "id": "qErZqUJvfyVT"
    },
    {
      "cell_type": "code",
      "execution_count": null,
      "metadata": {
        "id": "Xb_G2R0GfyVT",
        "colab": {
          "base_uri": "https://localhost:8080/"
        },
        "outputId": "825013c1-227c-4d48-975b-0fb289d1c99e"
      },
      "outputs": [
        {
          "output_type": "stream",
          "name": "stdout",
          "text": [
            "[50, 40, 30, 20, 10]\n"
          ]
        }
      ],
      "source": [
        "# write your code here\n",
        "mylist=[10, 20, 30, 40, 50]\n",
        "print(mylist[::-1])"
      ],
      "id": "Xb_G2R0GfyVT"
    },
    {
      "cell_type": "markdown",
      "metadata": {
        "id": "wk0JTcZgfyVU"
      },
      "source": [
        "### List Q3\n",
        "\n",
        "**Problem:** Write a program to extract every second element from the list `[1, 2, 3, 4, 5, 6, 7, 8]` using slicing.\n",
        "\n",
        "**Expected answer should look like (example):**\n",
        "```\n",
        "[2, 4, 6, 8]\n",
        "```"
      ],
      "id": "wk0JTcZgfyVU"
    },
    {
      "cell_type": "code",
      "execution_count": null,
      "metadata": {
        "id": "yRA2C-H5fyVU",
        "colab": {
          "base_uri": "https://localhost:8080/"
        },
        "outputId": "d1aab49f-3036-429a-c025-97eaae626453"
      },
      "outputs": [
        {
          "output_type": "stream",
          "name": "stdout",
          "text": [
            "[2, 4, 6, 8]\n"
          ]
        }
      ],
      "source": [
        "# write your code here\n",
        "list=[1, 2, 3, 4, 5, 6, 7, 8]\n",
        "print(list[1::2])"
      ],
      "id": "yRA2C-H5fyVU"
    },
    {
      "cell_type": "markdown",
      "metadata": {
        "id": "oK9W1WZBfyVU"
      },
      "source": [
        "### List Q4\n",
        "\n",
        "**Problem:** Write a program to replace the middle two elements of the list `[10, 20, 30, 40, 50]` with `[99, 100, 101]` using slicing.\n",
        "\n",
        "**Expected answer should look like (example):**\n",
        "```\n",
        "[10, 20, 99, 100, 101, 50]\n",
        "```"
      ],
      "id": "oK9W1WZBfyVU"
    },
    {
      "cell_type": "code",
      "execution_count": null,
      "metadata": {
        "id": "uB4t-1-FfyVU",
        "colab": {
          "base_uri": "https://localhost:8080/"
        },
        "outputId": "7e338202-646e-4390-b318-9030a052970a"
      },
      "outputs": [
        {
          "output_type": "stream",
          "name": "stdout",
          "text": [
            "[10, 20, 99, 100, 101, 50]\n"
          ]
        }
      ],
      "source": [
        "list1=[10, 20, 30, 40, 50]\n",
        "list2=[99, 100, 101]\n",
        "list1[2:4]=list2\n",
        "print(list1)\n",
        "\n"
      ],
      "id": "uB4t-1-FfyVU"
    },
    {
      "cell_type": "markdown",
      "metadata": {
        "id": "mOp9HBHafyVU"
      },
      "source": [
        "### List Q5\n",
        "\n",
        "**Problem:** Write a program to transform the list `[1, 2, 3, 4, 5]` into `[1, 99, 100, 101, 4, 5]` by modifying a slice.\n",
        "\n",
        "**Expected answer should look like (example):**\n",
        "```\n",
        "[1, 99, 100, 101, 4, 5]\n",
        "```"
      ],
      "id": "mOp9HBHafyVU"
    },
    {
      "cell_type": "code",
      "execution_count": null,
      "metadata": {
        "id": "STvMWW5GfyVV",
        "colab": {
          "base_uri": "https://localhost:8080/"
        },
        "outputId": "d7963589-627e-47d4-b590-f7389269c3da"
      },
      "outputs": [
        {
          "output_type": "stream",
          "name": "stdout",
          "text": [
            "[1, 99, 100, 101, 4, 5]\n"
          ]
        }
      ],
      "source": [
        "# Original list\n",
        "lst = [1, 2, 3, 4, 5]\n",
        "\n",
        "# Replace elements at index 1 and 2 (2, 3) with [99, 100, 101]\n",
        "lst[1:3] = [99, 100, 101]\n",
        "\n",
        "# Print updated list\n",
        "print(lst)\n"
      ],
      "id": "STvMWW5GfyVV"
    },
    {
      "cell_type": "markdown",
      "metadata": {
        "id": "YboV54EpfyVV"
      },
      "source": [
        "### List Q6\n",
        "\n",
        "**Problem:** Write a program to concatenate two lists without using the `+` operator.\n",
        "\n",
        "**Expected answer should look like (example):**\n",
        "```\n",
        "[...concatenated items...]  # e.g., via unpacking or extend\n",
        "```"
      ],
      "id": "YboV54EpfyVV"
    },
    {
      "cell_type": "code",
      "execution_count": null,
      "metadata": {
        "id": "qEzZVAuGfyVV",
        "colab": {
          "base_uri": "https://localhost:8080/"
        },
        "outputId": "858ad81d-94a5-4d51-97b7-39db4f69243f"
      },
      "outputs": [
        {
          "output_type": "stream",
          "name": "stdout",
          "text": [
            "[1, 2, 3, 4, 5, 6]\n"
          ]
        }
      ],
      "source": [
        "\n",
        "list1 = [1, 2, 3]\n",
        "list2 = [4, 5, 6]\n",
        "list1.extend(list2)\n",
        "\n",
        "print(list1)\n"
      ],
      "id": "qEzZVAuGfyVV"
    },
    {
      "cell_type": "markdown",
      "metadata": {
        "id": "aiMDaI-CfyVV"
      },
      "source": [
        "### List Q7\n",
        "\n",
        "**Problem:** Write a program to demonstrate how the `extend` method behaves if the argument is a string using `my_list = [1, 2, 3]`.\n",
        "\n",
        "**Expected answer should look like (example):**\n",
        "```\n",
        "[1, 2, 3, 'a', 'b', 'c']  # e.g., my_list.extend('abc') adds each char\n",
        "```"
      ],
      "id": "aiMDaI-CfyVV"
    },
    {
      "cell_type": "code",
      "execution_count": null,
      "metadata": {
        "id": "xYcujVcnfyVV",
        "colab": {
          "base_uri": "https://localhost:8080/"
        },
        "outputId": "22f43512-51bc-49ba-b4c9-27485c39b954"
      },
      "outputs": [
        {
          "output_type": "stream",
          "name": "stdout",
          "text": [
            "[1, 2, 3, 'a', 'b', 'c']\n"
          ]
        }
      ],
      "source": [
        "my_list = [1, 2, 3]\n",
        "my_list.extend(\"abc\")\n",
        "print(my_list)\n"
      ],
      "id": "xYcujVcnfyVV"
    },
    {
      "cell_type": "markdown",
      "metadata": {
        "id": "jDPtjjYrfyVV"
      },
      "source": [
        "### List Q8\n",
        "\n",
        "**Problem:** Write a program that uses `extend` to merge two lists in such a way that duplicates from the second list are not added.\n",
        "\n",
        "**Expected answer should look like (example):**\n",
        "```\n",
        "[merged_unique_list]  # second list's items only if not already present\n",
        "```"
      ],
      "id": "jDPtjjYrfyVV"
    },
    {
      "cell_type": "code",
      "execution_count": null,
      "metadata": {
        "id": "MDSsR4YdfyVV",
        "colab": {
          "base_uri": "https://localhost:8080/"
        },
        "outputId": "b6374480-e18d-4611-d1f9-05174511909f"
      },
      "outputs": [
        {
          "output_type": "stream",
          "name": "stdout",
          "text": [
            "{1, 2, 3, 4, 5, 6}\n"
          ]
        }
      ],
      "source": [
        "\n",
        "list1 = [1, 2, 3, 4]\n",
        "list2 = [3, 4, 5, 6]\n",
        "\n",
        "list1.extend(list2)\n",
        "l3=set(list1)\n",
        "\n",
        "print(l3)\n"
      ],
      "id": "MDSsR4YdfyVV"
    },
    {
      "cell_type": "markdown",
      "metadata": {
        "id": "bnFHf3nKfyVV"
      },
      "source": [
        "### List Q9\n",
        "\n",
        "**Problem:** Write a program to create a list of 100 zeros using repetition and then replace every 10th element with 1.\n",
        "\n",
        "**Expected answer should look like (example):**\n",
        "```\n",
        "[1 appears at indices 9,19,29,...]\n",
        "```"
      ],
      "id": "bnFHf3nKfyVV"
    },
    {
      "cell_type": "code",
      "execution_count": null,
      "metadata": {
        "id": "TnQW2Z11fyVV",
        "colab": {
          "base_uri": "https://localhost:8080/"
        },
        "outputId": "8216816a-b6c5-4aac-f8c3-7abb199deb8b"
      },
      "outputs": [
        {
          "output_type": "stream",
          "name": "stdout",
          "text": [
            "[0, 0, 0, 0, 0, 0, 0, 0, 0, 1, 0, 0, 0, 0, 0, 0, 0, 0, 0, 1, 0, 0, 0, 0, 0, 0, 0, 0, 0, 1, 0, 0, 0, 0, 0, 0, 0, 0, 0, 1, 0, 0, 0, 0, 0, 0, 0, 0, 0, 1, 0, 0, 0, 0, 0, 0, 0, 0, 0, 1, 0, 0, 0, 0, 0, 0, 0, 0, 0, 1, 0, 0, 0, 0, 0, 0, 0, 0, 0, 1, 0, 0, 0, 0, 0, 0, 0, 0, 0, 1, 0, 0, 0, 0, 0, 0, 0, 0, 0, 1]\n"
          ]
        }
      ],
      "source": [
        "\n",
        "lst = [0] * 100\n",
        "\n",
        "for i in range(9, 100, 10):\n",
        "    lst[i] = 1\n",
        "\n",
        "\n",
        "print(lst)\n"
      ],
      "id": "TnQW2Z11fyVV"
    },
    {
      "cell_type": "markdown",
      "metadata": {
        "id": "g2UP8pXGfyVW"
      },
      "source": [
        "### List Q10\n",
        "\n",
        "**Problem:** Write a Python command without using a loop to check if **all** the elements of `[2, 4]` are present in the list `[1, 2, 3, 4, 5]`.\n",
        "\n",
        "**Expected answer should look like (example):**\n",
        "```\n",
        "True  # e.g., set([2,4]).issubset([1,2,3,4,5])\n",
        "```"
      ],
      "id": "g2UP8pXGfyVW"
    },
    {
      "cell_type": "code",
      "execution_count": null,
      "metadata": {
        "id": "R8-l25c4fyVW",
        "colab": {
          "base_uri": "https://localhost:8080/"
        },
        "outputId": "41904558-3547-404b-c830-a40867506aa1"
      },
      "outputs": [
        {
          "output_type": "stream",
          "name": "stdout",
          "text": [
            "True\n"
          ]
        }
      ],
      "source": [
        "l1=[2,4]\n",
        "l2=[1,2,3,4,5]\n",
        "print(set([2, 4]).issubset([1, 2, 3, 4, 5]))\n"
      ],
      "id": "R8-l25c4fyVW"
    },
    {
      "cell_type": "markdown",
      "metadata": {
        "id": "aWvONtsUfyVW"
      },
      "source": [
        "### List Q11\n",
        "\n",
        "**Problem:** Write a program to use `not in` to filter out all the elements of a list that exist in another list, e.g., removing elements in `[2, 4]` from `[1, 2, 3, 4, 5]`.\n",
        "\n",
        "**Expected answer should look like (example):**\n",
        "```\n",
        "[1, 3, 5]\n",
        "```"
      ],
      "id": "aWvONtsUfyVW"
    },
    {
      "cell_type": "code",
      "execution_count": null,
      "metadata": {
        "id": "5RM0kWVufyVW",
        "colab": {
          "base_uri": "https://localhost:8080/"
        },
        "outputId": "1fa6760f-d6e6-4c14-ebc0-136d4367db42"
      },
      "outputs": [
        {
          "output_type": "stream",
          "name": "stdout",
          "text": [
            "[1, 3, 5]\n"
          ]
        }
      ],
      "source": [
        "list1 = [1, 2, 3, 4, 5]\n",
        "list2 = [2, 4]\n",
        "\n",
        "result = []\n",
        "for x in list1:\n",
        "    if x not in list2:\n",
        "        result.append(x)\n",
        "\n",
        "print(result)\n"
      ],
      "id": "5RM0kWVufyVW"
    },
    {
      "cell_type": "markdown",
      "metadata": {
        "id": "gFcNPkVMfyVW"
      },
      "source": [
        "### List Q12\n",
        "\n",
        "**Problem:** Create a list of integers from 1 to 10.\n",
        "\n",
        "**Expected answer should look like (example):**\n",
        "```\n",
        "[1, 2, 3, 4, 5, 6, 7, 8, 9, 10]\n",
        "```"
      ],
      "id": "gFcNPkVMfyVW"
    },
    {
      "cell_type": "code",
      "execution_count": null,
      "metadata": {
        "id": "OMf9DKBffyVW",
        "colab": {
          "base_uri": "https://localhost:8080/"
        },
        "outputId": "c53cc3b5-3cb2-4e9d-e3dc-bc29e3fdb147"
      },
      "outputs": [
        {
          "output_type": "stream",
          "name": "stdout",
          "text": [
            "[1, 2, 3, 4, 5, 6, 7, 8, 9, 10]\n"
          ]
        }
      ],
      "source": [
        "# write your code here\n",
        "list1=[]\n",
        "for i in range(1,11):\n",
        "    list1.append(i)\n",
        "print(list1)"
      ],
      "id": "OMf9DKBffyVW"
    },
    {
      "cell_type": "markdown",
      "metadata": {
        "id": "qLAAloubfyVW"
      },
      "source": [
        "### List Q13\n",
        "\n",
        "**Problem:** Add an element to the end of a list using `append()`.\n",
        "\n",
        "**Expected answer should look like (example):**\n",
        "```\n",
        "[...original..., 99]\n",
        "```"
      ],
      "id": "qLAAloubfyVW"
    },
    {
      "cell_type": "code",
      "execution_count": null,
      "metadata": {
        "id": "JAEwIYJUfyVW",
        "colab": {
          "base_uri": "https://localhost:8080/"
        },
        "outputId": "0f7e78ae-27a4-47e4-eb43-895c3c671055"
      },
      "outputs": [
        {
          "output_type": "stream",
          "name": "stdout",
          "text": [
            "[10, 20, 30, 40, 99]\n"
          ]
        }
      ],
      "source": [
        "# write your code here\n",
        "numbers = [10, 20, 30, 40]\n",
        "numbers.append(99)\n",
        "print(numbers)\n"
      ],
      "id": "JAEwIYJUfyVW"
    },
    {
      "cell_type": "markdown",
      "metadata": {
        "id": "7FZcvrd6fyVW"
      },
      "source": [
        "### List Q14\n",
        "\n",
        "**Problem:** Insert an element at the second position in a list.\n",
        "\n",
        "**Expected answer should look like (example):**\n",
        "```\n",
        "[first, NEW, rest...]\n",
        "```"
      ],
      "id": "7FZcvrd6fyVW"
    },
    {
      "cell_type": "code",
      "execution_count": null,
      "metadata": {
        "id": "xSlSO0mOfyVW",
        "colab": {
          "base_uri": "https://localhost:8080/"
        },
        "outputId": "1b6d58ff-e740-48f1-9ade-0f01028e766c"
      },
      "outputs": [
        {
          "output_type": "stream",
          "name": "stdout",
          "text": [
            "[10, 99, 20, 30, 40]\n"
          ]
        }
      ],
      "source": [
        "# write your code here\n",
        "numbers = [10, 20, 30, 40]\n",
        "numbers.insert(1, 99)\n",
        "print(numbers)\n"
      ],
      "id": "xSlSO0mOfyVW"
    },
    {
      "cell_type": "markdown",
      "metadata": {
        "id": "lvazvs0efyVW"
      },
      "source": [
        "### List Q15\n",
        "\n",
        "**Problem:** Remove an element from a list using `remove()`.\n",
        "\n",
        "**Expected answer should look like (example):**\n",
        "```\n",
        "[list without that value]\n",
        "```"
      ],
      "id": "lvazvs0efyVW"
    },
    {
      "cell_type": "code",
      "execution_count": null,
      "metadata": {
        "id": "IWI8ZjrPfyVW",
        "colab": {
          "base_uri": "https://localhost:8080/"
        },
        "outputId": "b27c9395-6507-4605-a8e5-5a28e95cba51"
      },
      "outputs": [
        {
          "output_type": "stream",
          "name": "stdout",
          "text": [
            "[10, 20, 40]\n"
          ]
        }
      ],
      "source": [
        "numbers = [10, 20, 30, 40]\n",
        "numbers.remove(30)\n",
        "print(numbers)\n"
      ],
      "id": "IWI8ZjrPfyVW"
    },
    {
      "cell_type": "markdown",
      "metadata": {
        "id": "Se9S-xEmfyVW"
      },
      "source": [
        "### List Q16\n",
        "\n",
        "**Problem:** Remove and return the last element of a list using `pop()`.\n",
        "\n",
        "**Expected answer should look like (example):**\n",
        "```\n",
        "popped_value  # and list becomes [..., without last]\n",
        "```"
      ],
      "id": "Se9S-xEmfyVW"
    },
    {
      "cell_type": "code",
      "execution_count": null,
      "metadata": {
        "id": "WHUV0hJefyVW",
        "colab": {
          "base_uri": "https://localhost:8080/"
        },
        "outputId": "b21e31d7-8dbd-4a55-d421-e3fa7701d16b"
      },
      "outputs": [
        {
          "output_type": "stream",
          "name": "stdout",
          "text": [
            "[10, 20, 30]\n",
            "Removed element: 40\n"
          ]
        }
      ],
      "source": [
        "numbers = [10, 20, 30, 40]\n",
        "last_item = numbers.pop()\n",
        "print(numbers)\n",
        "print(\"Removed element:\", last_item)\n"
      ],
      "id": "WHUV0hJefyVW"
    },
    {
      "cell_type": "markdown",
      "metadata": {
        "id": "Cdiq_m0ufyVX"
      },
      "source": [
        "### List Q17\n",
        "\n",
        "**Problem:** Find the length of a list **without** using the `len()` function.\n",
        "\n",
        "**Expected answer should look like (example):**\n",
        "```\n",
        "10  # manual count with loop\n",
        "```"
      ],
      "id": "Cdiq_m0ufyVX"
    },
    {
      "cell_type": "code",
      "execution_count": null,
      "metadata": {
        "id": "zDB8NF_XfyVX",
        "colab": {
          "base_uri": "https://localhost:8080/"
        },
        "outputId": "5c2d40f5-a802-4d50-bc3a-b92c2227e7f8"
      },
      "outputs": [
        {
          "output_type": "stream",
          "name": "stdout",
          "text": [
            "Length of list: 5\n"
          ]
        }
      ],
      "source": [
        "numbers = [10, 20, 30, 40, 50]\n",
        "\n",
        "count = 0\n",
        "for _ in numbers:\n",
        "    count += 1\n",
        "\n",
        "print(\"Length of list:\", count)\n",
        "\n",
        "\n"
      ],
      "id": "zDB8NF_XfyVX"
    },
    {
      "cell_type": "markdown",
      "metadata": {
        "id": "PJjb0FSafyVX"
      },
      "source": [
        "### List Q18\n",
        "\n",
        "**Problem:** Slice a list to get the first 5 elements.\n",
        "\n",
        "**Expected answer should look like (example):**\n",
        "```\n",
        "lst[:5] -> first five elements\n",
        "```"
      ],
      "id": "PJjb0FSafyVX"
    },
    {
      "cell_type": "code",
      "execution_count": null,
      "metadata": {
        "id": "Hgf3_8IcfyVX",
        "colab": {
          "base_uri": "https://localhost:8080/"
        },
        "outputId": "d78611af-e771-4081-bbcb-005e28d0c19a"
      },
      "outputs": [
        {
          "output_type": "stream",
          "name": "stdout",
          "text": [
            "[10, 20, 30, 40, 50]\n"
          ]
        }
      ],
      "source": [
        "numbers = [10, 20, 30, 40, 50, 60, 70]\n",
        "first_five = numbers[:5]\n",
        "print(first_five)\n"
      ],
      "id": "Hgf3_8IcfyVX"
    },
    {
      "cell_type": "markdown",
      "metadata": {
        "id": "vy6IHVyxfyVX"
      },
      "source": [
        "### List Q19\n",
        "\n",
        "**Problem:** Reverse a list using slicing.\n",
        "\n",
        "**Expected answer should look like (example):**\n",
        "```\n",
        "reversed_list  # lst[::-1]\n",
        "```"
      ],
      "id": "vy6IHVyxfyVX"
    },
    {
      "cell_type": "code",
      "execution_count": null,
      "metadata": {
        "id": "-GzdbhQzfyVX",
        "colab": {
          "base_uri": "https://localhost:8080/"
        },
        "outputId": "484b7340-7f37-4eaf-e2cd-2dd43e514364"
      },
      "outputs": [
        {
          "output_type": "stream",
          "name": "stdout",
          "text": [
            "[70, 60, 50, 40, 30, 20, 10]\n"
          ]
        }
      ],
      "source": [
        "numbers = [10, 20, 30, 40, 50, 60, 70]\n",
        "reversed_list=numbers[::-1]\n",
        "print(reversed_list)"
      ],
      "id": "-GzdbhQzfyVX"
    },
    {
      "cell_type": "markdown",
      "metadata": {
        "id": "HrmHD5tHfyVb"
      },
      "source": [
        "### List Q20\n",
        "\n",
        "**Problem:** Check if an element exists in a list using `in`.\n",
        "\n",
        "**Expected answer should look like (example):**\n",
        "```\n",
        "True/False\n",
        "```"
      ],
      "id": "HrmHD5tHfyVb"
    },
    {
      "cell_type": "code",
      "execution_count": null,
      "metadata": {
        "id": "j83Skl7sfyVb",
        "colab": {
          "base_uri": "https://localhost:8080/"
        },
        "outputId": "8c8863f8-e773-41bc-bd8e-e255f3f6895a"
      },
      "outputs": [
        {
          "output_type": "stream",
          "name": "stdout",
          "text": [
            "True\n"
          ]
        }
      ],
      "source": [
        "numbers = [10, 20, 30, 40, 50]\n",
        "\n",
        "if 30 in numbers:\n",
        "    print(\"True\")\n",
        "else:\n",
        "    print(\"False\")\n"
      ],
      "id": "j83Skl7sfyVb"
    },
    {
      "cell_type": "markdown",
      "metadata": {
        "id": "K51fd9txfyVb"
      },
      "source": [
        "### List Q21\n",
        "\n",
        "**Problem:** Concatenate two lists using the `+` operator.\n",
        "\n",
        "**Expected answer should look like (example):**\n",
        "```\n",
        "[combined elements]\n",
        "```"
      ],
      "id": "K51fd9txfyVb"
    },
    {
      "cell_type": "code",
      "execution_count": null,
      "metadata": {
        "id": "VjBkHE1WfyVb",
        "colab": {
          "base_uri": "https://localhost:8080/"
        },
        "outputId": "1f414067-d180-4c62-f5d6-6ca92d0e58fe"
      },
      "outputs": [
        {
          "output_type": "stream",
          "name": "stdout",
          "text": [
            "[1, 2, 3, 4, 5, 6]\n"
          ]
        }
      ],
      "source": [
        "list1 = [1, 2, 3]\n",
        "list2 = [4, 5, 6]\n",
        "\n",
        "result = list1 + list2\n",
        "print(result)\n"
      ],
      "id": "VjBkHE1WfyVb"
    },
    {
      "cell_type": "markdown",
      "metadata": {
        "id": "UrDqHcRPfyVb"
      },
      "source": [
        "### List Q22\n",
        "\n",
        "**Problem:** Find the sum of all elements in a list.\n",
        "\n",
        "**Expected answer should look like (example):**\n",
        "```\n",
        "numeric_sum\n",
        "```"
      ],
      "id": "UrDqHcRPfyVb"
    },
    {
      "cell_type": "code",
      "execution_count": null,
      "metadata": {
        "id": "ngMHgBd_fyVb",
        "colab": {
          "base_uri": "https://localhost:8080/"
        },
        "outputId": "ed864688-cd6b-4000-9e75-83bf25516ba7"
      },
      "outputs": [
        {
          "output_type": "stream",
          "name": "stdout",
          "text": [
            "Sum of elements: 150\n"
          ]
        }
      ],
      "source": [
        "numbers = [10, 20, 30, 40, 50]\n",
        "\n",
        "total = sum(numbers)\n",
        "print(\"Sum of elements:\", total)\n"
      ],
      "id": "ngMHgBd_fyVb"
    },
    {
      "cell_type": "markdown",
      "metadata": {
        "id": "wSQRcLcNfyVb"
      },
      "source": [
        "### List Q23\n",
        "\n",
        "**Problem:** Use list comprehension to generate a list of odd numbers from 1 to 10.\n",
        "\n",
        "**Expected answer should look like (example):**\n",
        "```\n",
        "[1, 3, 5, 7, 9]\n",
        "```"
      ],
      "id": "wSQRcLcNfyVb"
    },
    {
      "cell_type": "code",
      "execution_count": null,
      "metadata": {
        "id": "6aBwuaj2fyVc",
        "colab": {
          "base_uri": "https://localhost:8080/"
        },
        "outputId": "be6301cc-f5dc-43fa-d36b-faef94619d96"
      },
      "outputs": [
        {
          "output_type": "stream",
          "name": "stdout",
          "text": [
            "[1, 3, 5, 7, 9]\n"
          ]
        }
      ],
      "source": [
        "odd_numbers = [x for x in range(1, 11) if x % 2 != 0]\n",
        "print(odd_numbers)\n"
      ],
      "id": "6aBwuaj2fyVc"
    },
    {
      "cell_type": "markdown",
      "metadata": {
        "id": "IQEJlGtWfyVc"
      },
      "source": [
        "### List Q24\n",
        "\n",
        "**Problem:** Convert a list with duplicate elements into a set to remove duplicates.\n",
        "\n",
        "**Expected answer should look like (example):**\n",
        "```\n",
        "{unique_elements}\n",
        "```"
      ],
      "id": "IQEJlGtWfyVc"
    },
    {
      "cell_type": "code",
      "execution_count": null,
      "metadata": {
        "id": "2L_StV1tfyVc",
        "colab": {
          "base_uri": "https://localhost:8080/"
        },
        "outputId": "81e83a45-191b-4144-8a12-0accc627aefc"
      },
      "outputs": [
        {
          "output_type": "stream",
          "name": "stdout",
          "text": [
            "{1, 2, 3, 4, 5}\n"
          ]
        }
      ],
      "source": [
        "numbers = [1, 2, 2, 3, 4, 4, 5]\n",
        "\n",
        "unique_numbers = set(numbers)\n",
        "print(unique_numbers)\n"
      ],
      "id": "2L_StV1tfyVc"
    },
    {
      "cell_type": "markdown",
      "metadata": {
        "id": "EELV4nHgfyVc"
      },
      "source": [
        "### List Q25\n",
        "\n",
        "**Problem:** Convert a string to a list of its characters.\n",
        "\n",
        "**Expected answer should look like (example):**\n",
        "```\n",
        "['h','e','l','l','o']\n",
        "```"
      ],
      "id": "EELV4nHgfyVc"
    },
    {
      "cell_type": "code",
      "execution_count": null,
      "metadata": {
        "id": "RtuvzGP7fyVc",
        "colab": {
          "base_uri": "https://localhost:8080/"
        },
        "outputId": "9289c7ee-f2f0-47c4-9cb2-9315243c98b4"
      },
      "outputs": [
        {
          "output_type": "stream",
          "name": "stdout",
          "text": [
            "['H', 'e', 'l', 'l', 'o']\n"
          ]
        }
      ],
      "source": [
        "text = \"Hello\"\n",
        "char_list = list(text)\n",
        "print(char_list)\n"
      ],
      "id": "RtuvzGP7fyVc"
    },
    {
      "cell_type": "markdown",
      "metadata": {
        "id": "7h2II8C9fyVc"
      },
      "source": [
        "### List Q26\n",
        "\n",
        "**Problem:** Multiply all items in a list using a loop.\n",
        "\n",
        "**Expected answer should look like (example):**\n",
        "```\n",
        "product_value\n",
        "```"
      ],
      "id": "7h2II8C9fyVc"
    },
    {
      "cell_type": "code",
      "execution_count": null,
      "metadata": {
        "id": "JvKxVBchfyVc"
      },
      "outputs": [],
      "source": [
        "numbers = [1, 2, 3, 4, 5]\n",
        "product = 1\n",
        "\n",
        "for num in numbers:\n",
        "    product *= num\n",
        "\n",
        "print(\"Product of all elements:\", product)\n"
      ],
      "id": "JvKxVBchfyVc"
    },
    {
      "cell_type": "markdown",
      "metadata": {
        "id": "Na-zJ1YdfyVc"
      },
      "source": [
        "### List Q27\n",
        "\n",
        "**Problem:** Sort a list of numbers in ascending order.\n",
        "\n",
        "**Expected answer should look like (example):**\n",
        "```\n",
        "[sorted numbers asc]\n",
        "```"
      ],
      "id": "Na-zJ1YdfyVc"
    },
    {
      "cell_type": "code",
      "execution_count": null,
      "metadata": {
        "id": "DFe5IEEAfyVc",
        "colab": {
          "base_uri": "https://localhost:8080/"
        },
        "outputId": "7677e672-a937-436b-cc55-9a16c86cb953"
      },
      "outputs": [
        {
          "output_type": "stream",
          "name": "stdout",
          "text": [
            "[10, 20, 30, 40, 50]\n"
          ]
        }
      ],
      "source": [
        "numbers = [40, 10, 30, 20, 50]\n",
        "numbers.sort()\n",
        "print(numbers)\n"
      ],
      "id": "DFe5IEEAfyVc"
    },
    {
      "cell_type": "markdown",
      "metadata": {
        "id": "qZW5tg5rfyVc"
      },
      "source": [
        "### List Q28\n",
        "\n",
        "**Problem:** Clear all elements from a list using `clear()`.\n",
        "\n",
        "**Expected answer should look like (example):**\n",
        "```\n",
        "[]\n",
        "```"
      ],
      "id": "qZW5tg5rfyVc"
    },
    {
      "cell_type": "code",
      "execution_count": null,
      "metadata": {
        "id": "jso3gUtvfyVc",
        "colab": {
          "base_uri": "https://localhost:8080/"
        },
        "outputId": "113c0f45-a964-468d-d13a-ae02a3a87ab0"
      },
      "outputs": [
        {
          "output_type": "stream",
          "name": "stdout",
          "text": [
            "[]\n"
          ]
        }
      ],
      "source": [
        "numbers = [10, 20, 30, 40, 50]\n",
        "numbers.clear()\n",
        "print(numbers)\n"
      ],
      "id": "jso3gUtvfyVc"
    },
    {
      "cell_type": "markdown",
      "metadata": {
        "id": "G751txAVfyVc"
      },
      "source": [
        "### List Q29\n",
        "\n",
        "**Problem:** Use a `while` loop to iterate through a list.\n",
        "\n",
        "**Expected answer should look like (example):**\n",
        "```\n",
        "each element printed/processed\n",
        "```"
      ],
      "id": "G751txAVfyVc"
    },
    {
      "cell_type": "code",
      "execution_count": null,
      "metadata": {
        "id": "VVnSkIvPfyVd",
        "colab": {
          "base_uri": "https://localhost:8080/"
        },
        "outputId": "aa9467e3-caff-4e68-87dc-0a5ccd3bbd23"
      },
      "outputs": [
        {
          "output_type": "stream",
          "name": "stdout",
          "text": [
            "10\n",
            "20\n",
            "30\n",
            "40\n",
            "50\n"
          ]
        }
      ],
      "source": [
        "numbers = [10, 20, 30, 40, 50]\n",
        "i = 0\n",
        "\n",
        "while i < len(numbers):\n",
        "    print(numbers[i])\n",
        "    i += 1\n"
      ],
      "id": "VVnSkIvPfyVd"
    },
    {
      "cell_type": "markdown",
      "metadata": {
        "id": "cduQw_jHfyVd"
      },
      "source": [
        "### List Q30\n",
        "\n",
        "**Problem:** Use a `for` loop with `enumerate()` to print index and value.\n",
        "\n",
        "**Expected answer should look like (example):**\n",
        "```\n",
        "index: value\n",
        "```"
      ],
      "id": "cduQw_jHfyVd"
    },
    {
      "cell_type": "code",
      "execution_count": null,
      "metadata": {
        "id": "oeZBqKEOfyVd",
        "colab": {
          "base_uri": "https://localhost:8080/"
        },
        "outputId": "024b4671-bc5e-42cd-f51f-7e1316c58ff4"
      },
      "outputs": [
        {
          "output_type": "stream",
          "name": "stdout",
          "text": [
            "Index: 0 Value: 10\n",
            "Index: 1 Value: 20\n",
            "Index: 2 Value: 30\n",
            "Index: 3 Value: 40\n",
            "Index: 4 Value: 50\n"
          ]
        }
      ],
      "source": [
        "numbers = [10, 20, 30, 40, 50]\n",
        "\n",
        "for index, value in enumerate(numbers):\n",
        "    print(\"Index:\", index, \"Value:\", value)\n"
      ],
      "id": "oeZBqKEOfyVd"
    },
    {
      "cell_type": "markdown",
      "metadata": {
        "id": "zFd9UtnbfyVd"
      },
      "source": [
        "### List Q31\n",
        "\n",
        "**Problem:** Find the index of an element in a list using `index()`.\n",
        "\n",
        "**Expected answer should look like (example):**\n",
        "```\n",
        "integer_index\n",
        "```"
      ],
      "id": "zFd9UtnbfyVd"
    },
    {
      "cell_type": "code",
      "execution_count": null,
      "metadata": {
        "id": "cPlSAo-8fyVd",
        "colab": {
          "base_uri": "https://localhost:8080/"
        },
        "outputId": "ea704f6b-80a6-4881-cc30-44678b2e0f59"
      },
      "outputs": [
        {
          "output_type": "stream",
          "name": "stdout",
          "text": [
            "Index of 30: 2\n"
          ]
        }
      ],
      "source": [
        "numbers = [10, 20, 30, 40, 50]\n",
        "\n",
        "position = numbers.index(30)\n",
        "print(\"Index of 30:\", position)\n"
      ],
      "id": "cPlSAo-8fyVd"
    },
    {
      "cell_type": "markdown",
      "metadata": {
        "id": "gbu56yUMfyVd"
      },
      "source": [
        "### Tuples Q1\n",
        "\n",
        "**Problem:** Create a tuple with elements from 1 to 5.\n",
        "\n",
        "**Expected answer should look like (example):**\n",
        "```\n",
        "(1, 2, 3, 4, 5)\n",
        "```"
      ],
      "id": "gbu56yUMfyVd"
    },
    {
      "cell_type": "code",
      "execution_count": null,
      "metadata": {
        "id": "eO6CeCapfyVd",
        "colab": {
          "base_uri": "https://localhost:8080/"
        },
        "outputId": "f952e2af-a5d5-4f97-9025-e1d9922f0f0e"
      },
      "outputs": [
        {
          "output_type": "stream",
          "name": "stdout",
          "text": [
            "(1, 2, 3, 4, 5)\n"
          ]
        }
      ],
      "source": [
        "my_tuple = (1, 2, 3, 4, 5)\n",
        "print(my_tuple)\n"
      ],
      "id": "eO6CeCapfyVd"
    },
    {
      "cell_type": "markdown",
      "metadata": {
        "id": "bL2uXcsyfyVd"
      },
      "source": [
        "### Tuples Q2\n",
        "\n",
        "**Problem:** Access the third element in a tuple.\n",
        "\n",
        "**Expected answer should look like (example):**\n",
        "```\n",
        "value_at_index_2\n",
        "```"
      ],
      "id": "bL2uXcsyfyVd"
    },
    {
      "cell_type": "code",
      "execution_count": null,
      "metadata": {
        "id": "CcmxEwb5fyVd",
        "colab": {
          "base_uri": "https://localhost:8080/"
        },
        "outputId": "11a34776-aa7d-4137-fb39-1f7a57db8a15"
      },
      "outputs": [
        {
          "output_type": "stream",
          "name": "stdout",
          "text": [
            "30\n"
          ]
        }
      ],
      "source": [
        "my_tuple = (10, 20, 30, 40, 50)\n",
        "third_element = my_tuple[2]\n",
        "print(third_element)\n"
      ],
      "id": "CcmxEwb5fyVd"
    },
    {
      "cell_type": "markdown",
      "metadata": {
        "id": "yVfJnjdIfyVd"
      },
      "source": [
        "### Tuples Q3\n",
        "\n",
        "**Problem:** Slice a tuple to get the last 3 elements.\n",
        "\n",
        "**Expected answer should look like (example):**\n",
        "```\n",
        "(last3,)\n",
        "```"
      ],
      "id": "yVfJnjdIfyVd"
    },
    {
      "cell_type": "code",
      "execution_count": null,
      "metadata": {
        "id": "_Flfm1X0fyVd",
        "colab": {
          "base_uri": "https://localhost:8080/"
        },
        "outputId": "aa078585-fa7d-4454-a98e-05d1e214179b"
      },
      "outputs": [
        {
          "output_type": "stream",
          "name": "stdout",
          "text": [
            "(30, 40, 50)\n"
          ]
        }
      ],
      "source": [
        "my_tuple = (10, 20, 30, 40, 50)\n",
        "last_three = my_tuple[-3:]\n",
        "print(last_three)\n"
      ],
      "id": "_Flfm1X0fyVd"
    },
    {
      "cell_type": "markdown",
      "metadata": {
        "id": "qWC68fe8fyVd"
      },
      "source": [
        "### Tuples Q4\n",
        "\n",
        "**Problem:** Check if an element exists in a tuple using `in`.\n",
        "\n",
        "**Expected answer should look like (example):**\n",
        "```\n",
        "True/False\n",
        "```"
      ],
      "id": "qWC68fe8fyVd"
    },
    {
      "cell_type": "code",
      "execution_count": null,
      "metadata": {
        "id": "LBZY1QqbfyVd",
        "colab": {
          "base_uri": "https://localhost:8080/"
        },
        "outputId": "5e2ed0f7-7854-4441-ed04-ac4fa6db0707"
      },
      "outputs": [
        {
          "output_type": "stream",
          "name": "stdout",
          "text": [
            "True\n"
          ]
        }
      ],
      "source": [
        "my_tuple = (10, 20, 30, 40, 50)\n",
        "\n",
        "if 30 in my_tuple:\n",
        "    print(\"True\")\n",
        "else:\n",
        "    print(\"False\")\n"
      ],
      "id": "LBZY1QqbfyVd"
    },
    {
      "cell_type": "markdown",
      "metadata": {
        "id": "MHDJ8V3pfyVe"
      },
      "source": [
        "### Tuples Q5\n",
        "\n",
        "**Problem:** Find the index of an element in a tuple.\n",
        "\n",
        "**Expected answer should look like (example):**\n",
        "```\n",
        "integer_index\n",
        "```"
      ],
      "id": "MHDJ8V3pfyVe"
    },
    {
      "cell_type": "code",
      "execution_count": null,
      "metadata": {
        "id": "lIuu_klOfyVe",
        "colab": {
          "base_uri": "https://localhost:8080/"
        },
        "outputId": "c830ba4b-b6d0-44dc-ad9b-47349e7ba207"
      },
      "outputs": [
        {
          "output_type": "stream",
          "name": "stdout",
          "text": [
            "Index of 30: 2\n"
          ]
        }
      ],
      "source": [
        "my_tuple = (10, 20, 30, 40, 50)\n",
        "\n",
        "position = my_tuple.index(30)\n",
        "print(\"Index of 30:\", position)\n"
      ],
      "id": "lIuu_klOfyVe"
    },
    {
      "cell_type": "markdown",
      "metadata": {
        "id": "qdDgmuL3fyVe"
      },
      "source": [
        "### Tuples Q6\n",
        "\n",
        "**Problem:** Count the occurrences of an element in a tuple.\n",
        "\n",
        "**Expected answer should look like (example):**\n",
        "```\n",
        "count_value\n",
        "```"
      ],
      "id": "qdDgmuL3fyVe"
    },
    {
      "cell_type": "code",
      "execution_count": null,
      "metadata": {
        "id": "ZKBvIlJzfyVe",
        "colab": {
          "base_uri": "https://localhost:8080/"
        },
        "outputId": "67d1fe56-aee1-456c-d76f-be4f8a688775"
      },
      "outputs": [
        {
          "output_type": "stream",
          "name": "stdout",
          "text": [
            "Number of occurrences of 20: 3\n"
          ]
        }
      ],
      "source": [
        "my_tuple = (10, 20, 30, 20, 40, 20, 50)\n",
        "\n",
        "count_20 = my_tuple.count(20)\n",
        "print(\"Number of occurrences of 20:\", count_20)\n"
      ],
      "id": "ZKBvIlJzfyVe"
    },
    {
      "cell_type": "markdown",
      "metadata": {
        "id": "FphgWkIKfyVe"
      },
      "source": [
        "### Tuples Q7\n",
        "\n",
        "**Problem:** Create a nested tuple and access an element from it.\n",
        "\n",
        "**Expected answer should look like (example):**\n",
        "```\n",
        "nested_value\n",
        "```"
      ],
      "id": "FphgWkIKfyVe"
    },
    {
      "cell_type": "code",
      "execution_count": null,
      "metadata": {
        "id": "HnvdVBUNfyVe",
        "colab": {
          "base_uri": "https://localhost:8080/"
        },
        "outputId": "8aa6dda6-b527-4480-9402-b72faf5da669"
      },
      "outputs": [
        {
          "output_type": "stream",
          "name": "stdout",
          "text": [
            "20\n"
          ]
        }
      ],
      "source": [
        "\n",
        "nested_tuple = (1, 2, (10, 20, 30), 4, 5)\n",
        "\n",
        "element = nested_tuple[2][1]\n",
        "print(element)\n"
      ],
      "id": "HnvdVBUNfyVe"
    },
    {
      "cell_type": "markdown",
      "metadata": {
        "id": "cJGrrJa3fyVe"
      },
      "source": [
        "### Tuples Q8\n",
        "\n",
        "**Problem:** Check if two tuples are equal.\n",
        "\n",
        "**Expected answer should look like (example):**\n",
        "```\n",
        "True/False\n",
        "```"
      ],
      "id": "cJGrrJa3fyVe"
    },
    {
      "cell_type": "code",
      "execution_count": null,
      "metadata": {
        "id": "yrtoIoESfyVe",
        "colab": {
          "base_uri": "https://localhost:8080/"
        },
        "outputId": "fbc07c5d-fee7-421f-e38a-45626b951080"
      },
      "outputs": [
        {
          "output_type": "stream",
          "name": "stdout",
          "text": [
            "True\n"
          ]
        }
      ],
      "source": [
        "tuple1 = (1, 2, 3)\n",
        "tuple2 = (1, 2, 3)\n",
        "\n",
        "are_equal = tuple1 == tuple2\n",
        "print(are_equal)\n"
      ],
      "id": "yrtoIoESfyVe"
    },
    {
      "cell_type": "markdown",
      "metadata": {
        "id": "-LNfyhfEfyVe"
      },
      "source": [
        "### Tuples Q9\n",
        "\n",
        "**Problem:** Convert a list to a tuple.\n",
        "\n",
        "**Expected answer should look like (example):**\n",
        "```\n",
        "tuple(list)\n",
        "```"
      ],
      "id": "-LNfyhfEfyVe"
    },
    {
      "cell_type": "code",
      "execution_count": null,
      "metadata": {
        "id": "qVjr5RJFfyVe",
        "colab": {
          "base_uri": "https://localhost:8080/"
        },
        "outputId": "bae038dc-63f2-43a4-e22a-ac499cb5cb26"
      },
      "outputs": [
        {
          "output_type": "stream",
          "name": "stdout",
          "text": [
            "(1, 2, 3, 4, 5)\n"
          ]
        }
      ],
      "source": [
        "my_list = [1, 2, 3, 4, 5]\n",
        "my_tuple = tuple(my_list)\n",
        "print(my_tuple)\n"
      ],
      "id": "qVjr5RJFfyVe"
    },
    {
      "cell_type": "markdown",
      "metadata": {
        "id": "2z6vK3lcfyVe"
      },
      "source": [
        "### Tuples Q10\n",
        "\n",
        "**Problem:** Create a tuple of integers and find its sum.\n",
        "\n",
        "**Expected answer should look like (example):**\n",
        "```\n",
        "sum_value\n",
        "```"
      ],
      "id": "2z6vK3lcfyVe"
    },
    {
      "cell_type": "code",
      "execution_count": null,
      "metadata": {
        "id": "2wvATIXwfyVe",
        "colab": {
          "base_uri": "https://localhost:8080/"
        },
        "outputId": "0bb15862-8752-4487-d799-9e728b5b686d"
      },
      "outputs": [
        {
          "output_type": "stream",
          "name": "stdout",
          "text": [
            "Sum of tuple elements: 150\n"
          ]
        }
      ],
      "source": [
        "my_tuple = (10, 20, 30, 40, 50)\n",
        "total = sum(my_tuple)\n",
        "print(\"Sum of tuple elements:\", total)\n"
      ],
      "id": "2wvATIXwfyVe"
    },
    {
      "cell_type": "markdown",
      "metadata": {
        "id": "AL5_V1DRfyVe"
      },
      "source": [
        "### Tuples Q11\n",
        "\n",
        "**Problem:** Create a tuple using the `tuple()` constructor.\n",
        "\n",
        "**Expected answer should look like (example):**\n",
        "```\n",
        "tuple_from_iterable\n",
        "```"
      ],
      "id": "AL5_V1DRfyVe"
    },
    {
      "cell_type": "code",
      "execution_count": null,
      "metadata": {
        "id": "J3H2rnqifyVf",
        "colab": {
          "base_uri": "https://localhost:8080/"
        },
        "outputId": "c073b141-fa19-4de9-f8d3-3b12e83e5a4e"
      },
      "outputs": [
        {
          "output_type": "stream",
          "name": "stdout",
          "text": [
            "(10, 20, 30, 40, 50)\n"
          ]
        }
      ],
      "source": [
        "\n",
        "my_tuple = tuple([10, 20, 30, 40, 50])\n",
        "print(my_tuple)\n"
      ],
      "id": "J3H2rnqifyVf"
    },
    {
      "cell_type": "markdown",
      "metadata": {
        "id": "UZHJ8sV2fyVf"
      },
      "source": [
        "### Tuples Q12\n",
        "\n",
        "**Problem:** Use a `for` loop to iterate through a tuple.\n",
        "\n",
        "**Expected answer should look like (example):**\n",
        "```\n",
        "elements printed/processed\n",
        "```"
      ],
      "id": "UZHJ8sV2fyVf"
    },
    {
      "cell_type": "code",
      "execution_count": null,
      "metadata": {
        "id": "hWTzzxbQfyVf",
        "colab": {
          "base_uri": "https://localhost:8080/"
        },
        "outputId": "4e7352cc-e187-4b75-fbb5-1d330e555eec"
      },
      "outputs": [
        {
          "output_type": "stream",
          "name": "stdout",
          "text": [
            "10\n",
            "20\n",
            "30\n",
            "40\n",
            "50\n"
          ]
        }
      ],
      "source": [
        "my_tuple = (10, 20, 30, 40, 50)\n",
        "\n",
        "for item in my_tuple:\n",
        "    print(item)\n"
      ],
      "id": "hWTzzxbQfyVf"
    },
    {
      "cell_type": "markdown",
      "metadata": {
        "id": "DrMe5TzIfyVf"
      },
      "source": [
        "### Tuples Q13\n",
        "\n",
        "**Problem:** Try modifying a tuple element and handle the error.\n",
        "\n",
        "**Expected answer should look like (example):**\n",
        "```\n",
        "TypeError handled\n",
        "```"
      ],
      "id": "DrMe5TzIfyVf"
    },
    {
      "cell_type": "code",
      "execution_count": null,
      "metadata": {
        "id": "lKiryIUUfyVf",
        "colab": {
          "base_uri": "https://localhost:8080/"
        },
        "outputId": "137d5275-3d2e-4560-b78a-00864c81db2e"
      },
      "outputs": [
        {
          "output_type": "stream",
          "name": "stdout",
          "text": [
            "Error: 'tuple' object does not support item assignment\n"
          ]
        }
      ],
      "source": [
        "my_tuple = (10, 20, 30)\n",
        "\n",
        "try:\n",
        "    my_tuple[1] = 99\n",
        "except TypeError as e:\n",
        "    print(\"Error:\", e)\n"
      ],
      "id": "lKiryIUUfyVf"
    },
    {
      "cell_type": "markdown",
      "metadata": {
        "id": "YhvKphyXfyVf"
      },
      "source": [
        "### Tuples Q14\n",
        "\n",
        "**Problem:** Unpack a tuple into individual variables.\n",
        "\n",
        "**Expected answer should look like (example):**\n",
        "```\n",
        "a b c ... assigned\n",
        "```"
      ],
      "id": "YhvKphyXfyVf"
    },
    {
      "cell_type": "code",
      "execution_count": null,
      "metadata": {
        "id": "OWtwQmw3fyVf",
        "colab": {
          "base_uri": "https://localhost:8080/"
        },
        "outputId": "7b0b1763-2722-481e-cdd8-0842ca819e95"
      },
      "outputs": [
        {
          "output_type": "stream",
          "name": "stdout",
          "text": [
            "a = 10\n",
            "b = 20\n",
            "c = 30\n"
          ]
        }
      ],
      "source": [
        "my_tuple = (10, 20, 30)\n",
        "\n",
        "a, b, c = my_tuple\n",
        "\n",
        "print(\"a =\", a)\n",
        "print(\"b =\", b)\n",
        "print(\"c =\", c)\n"
      ],
      "id": "OWtwQmw3fyVf"
    },
    {
      "cell_type": "markdown",
      "metadata": {
        "id": "MkF0atcFfyVf"
      },
      "source": [
        "### Tuples Q15\n",
        "\n",
        "**Problem:** Use a tuple inside a dictionary as a key.\n",
        "\n",
        "**Expected answer should look like (example):**\n",
        "```\n",
        "{(1,2): 'value'}\n",
        "```"
      ],
      "id": "MkF0atcFfyVf"
    },
    {
      "cell_type": "code",
      "execution_count": null,
      "metadata": {
        "id": "6C4iwP6ZfyVf",
        "colab": {
          "base_uri": "https://localhost:8080/"
        },
        "outputId": "77a4bd95-a7bf-40fb-bc57-25143b8a15fc"
      },
      "outputs": [
        {
          "output_type": "stream",
          "name": "stdout",
          "text": [
            "a\n",
            "b\n"
          ]
        }
      ],
      "source": [
        "\n",
        "my_dict = {\n",
        "    (1, 2): \"a\",\n",
        "    (3, 4): \"b\"\n",
        "}\n",
        "\n",
        "print(my_dict[(1, 2)])\n",
        "print(my_dict[(3, 4)])\n"
      ],
      "id": "6C4iwP6ZfyVf"
    },
    {
      "cell_type": "markdown",
      "metadata": {
        "id": "oqBDYfK6fyVf"
      },
      "source": [
        "### Tuples Q16\n",
        "\n",
        "**Problem:** Find the length of a tuple using `len()`.\n",
        "\n",
        "**Expected answer should look like (example):**\n",
        "```\n",
        "length_value\n",
        "```"
      ],
      "id": "oqBDYfK6fyVf"
    },
    {
      "cell_type": "code",
      "execution_count": null,
      "metadata": {
        "id": "fcp9Leg2fyVf",
        "colab": {
          "base_uri": "https://localhost:8080/"
        },
        "outputId": "cf6d8027-b9ac-4b60-9761-b3164f11b32c"
      },
      "outputs": [
        {
          "output_type": "stream",
          "name": "stdout",
          "text": [
            "Length of tuple: 5\n"
          ]
        }
      ],
      "source": [
        "my_tuple = (10, 20, 30, 40, 50)\n",
        "length = len(my_tuple)\n",
        "print(\"Length of tuple:\", length)\n"
      ],
      "id": "fcp9Leg2fyVf"
    },
    {
      "cell_type": "markdown",
      "metadata": {
        "id": "azW0Z5FRfyVf"
      },
      "source": [
        "### Tuples Q17\n",
        "\n",
        "**Problem:** Compare two tuples using relational operators.\n",
        "\n",
        "**Expected answer should look like (example):**\n",
        "```\n",
        "True/False based on lexicographic\n",
        "```"
      ],
      "id": "azW0Z5FRfyVf"
    },
    {
      "cell_type": "code",
      "execution_count": null,
      "metadata": {
        "id": "DxFDZ_FPfyVg",
        "colab": {
          "base_uri": "https://localhost:8080/"
        },
        "outputId": "77369ed7-f26e-4206-e00f-cf6e583daec4"
      },
      "outputs": [
        {
          "output_type": "stream",
          "name": "stdout",
          "text": [
            "True\n",
            "False\n",
            "False\n"
          ]
        }
      ],
      "source": [
        "tuple1 = (1, 2, 3)\n",
        "tuple2 = (1, 3, 2)\n",
        "\n",
        "print(tuple1 < tuple2)   # True\n",
        "print(tuple1 > tuple2)   # False\n",
        "print(tuple1 == tuple2)  # False\n"
      ],
      "id": "DxFDZ_FPfyVg"
    },
    {
      "cell_type": "markdown",
      "metadata": {
        "id": "vyvlq4bWfyVg"
      },
      "source": [
        "### Tuples Q18\n",
        "\n",
        "**Problem:** Use `max()` and `min()` with a tuple.\n",
        "\n",
        "**Expected answer should look like (example):**\n",
        "```\n",
        "max_value, min_value\n",
        "```"
      ],
      "id": "vyvlq4bWfyVg"
    },
    {
      "cell_type": "code",
      "execution_count": null,
      "metadata": {
        "id": "62KgdnSAfyVg",
        "colab": {
          "base_uri": "https://localhost:8080/"
        },
        "outputId": "0b6ce92e-b1fd-48f2-bf38-3b49b41f36a8"
      },
      "outputs": [
        {
          "output_type": "stream",
          "name": "stdout",
          "text": [
            "Maximum: 50\n",
            "Minimum: 10\n"
          ]
        }
      ],
      "source": [
        "my_tuple = (10, 20, 30, 40, 50)\n",
        "\n",
        "maximum = max(my_tuple)\n",
        "minimum = min(my_tuple)\n",
        "\n",
        "print(\"Maximum:\", maximum)\n",
        "print(\"Minimum:\", minimum)\n"
      ],
      "id": "62KgdnSAfyVg"
    },
    {
      "cell_type": "markdown",
      "metadata": {
        "id": "HEENKlfkfyVg"
      },
      "source": [
        "### Tuples Q19\n",
        "\n",
        "**Problem:** Use a tuple inside another tuple and access nested values.\n",
        "\n",
        "**Expected answer should look like (example):**\n",
        "```\n",
        "nested_value\n",
        "```"
      ],
      "id": "HEENKlfkfyVg"
    },
    {
      "cell_type": "code",
      "execution_count": null,
      "metadata": {
        "id": "URl8HuYFfyVg",
        "colab": {
          "base_uri": "https://localhost:8080/"
        },
        "outputId": "0f159dcd-b8b9-43f0-f0d7-1fff72ec3bf3"
      },
      "outputs": [
        {
          "output_type": "stream",
          "name": "stdout",
          "text": [
            "20\n"
          ]
        }
      ],
      "source": [
        "\n",
        "nested_tuple = (1, 2, (10, 20, 30), 4, 5)\n",
        "value = nested_tuple[2][1]\n",
        "print(value)\n"
      ],
      "id": "URl8HuYFfyVg"
    },
    {
      "cell_type": "markdown",
      "metadata": {
        "id": "UzcLW_RPfyVg"
      },
      "source": [
        "### Tuples Q20\n",
        "\n",
        "**Problem:** Check the memory size of a tuple versus a list using `sys.getsizeof()`.\n",
        "\n",
        "**Expected answer should look like (example):**\n",
        "```\n",
        "e.g., tuple_size < list_size (often)\n",
        "```"
      ],
      "id": "UzcLW_RPfyVg"
    },
    {
      "cell_type": "code",
      "execution_count": null,
      "metadata": {
        "id": "3CBhEviofyVg",
        "colab": {
          "base_uri": "https://localhost:8080/"
        },
        "outputId": "09f703f6-5dbb-41cc-b353-617d796e15e0"
      },
      "outputs": [
        {
          "output_type": "stream",
          "name": "stdout",
          "text": [
            "Memory size of list: 104\n",
            "Memory size of tuple: 80\n"
          ]
        }
      ],
      "source": [
        "import sys\n",
        "\n",
        "my_list = [1, 2, 3, 4, 5]\n",
        "my_tuple = (1, 2, 3, 4, 5)\n",
        "\n",
        "list_size = sys.getsizeof(my_list)\n",
        "tuple_size = sys.getsizeof(my_tuple)\n",
        "\n",
        "print(\"Memory size of list:\", list_size)\n",
        "print(\"Memory size of tuple:\", tuple_size)\n"
      ],
      "id": "3CBhEviofyVg"
    },
    {
      "cell_type": "markdown",
      "metadata": {
        "id": "fd4yFydZfyVg"
      },
      "source": [
        "### Sets Q1\n",
        "\n",
        "**Problem:** Create a set with integers from 10 to 15.\n",
        "\n",
        "**Expected answer should look like (example):**\n",
        "```\n",
        "{10, 11, 12, 13, 14, 15} (order may vary)\n",
        "```"
      ],
      "id": "fd4yFydZfyVg"
    },
    {
      "cell_type": "code",
      "execution_count": null,
      "metadata": {
        "id": "5qqGXfs0fyVg",
        "colab": {
          "base_uri": "https://localhost:8080/"
        },
        "outputId": "ebffc41d-7c60-45b2-acc0-9ad7a515726b"
      },
      "outputs": [
        {
          "output_type": "stream",
          "name": "stdout",
          "text": [
            "{10, 11, 12, 13, 14, 15}\n"
          ]
        }
      ],
      "source": [
        "my_set = set(range(10, 16))\n",
        "print(my_set)\n"
      ],
      "id": "5qqGXfs0fyVg"
    },
    {
      "cell_type": "markdown",
      "metadata": {
        "id": "0iSowp2CfyVg"
      },
      "source": [
        "### Sets Q2\n",
        "\n",
        "**Problem:** Add multiple elements to a set using `update()`.\n",
        "\n",
        "**Expected answer should look like (example):**\n",
        "```\n",
        "{...includes new elements...}\n",
        "```"
      ],
      "id": "0iSowp2CfyVg"
    },
    {
      "cell_type": "code",
      "execution_count": null,
      "metadata": {
        "id": "Z-upfIXtfyVg",
        "colab": {
          "base_uri": "https://localhost:8080/"
        },
        "outputId": "e8996747-0d94-4ed1-d0a8-dde0018ce5fe"
      },
      "outputs": [
        {
          "output_type": "stream",
          "name": "stdout",
          "text": [
            "{40, 10, 50, 20, 60, 30}\n"
          ]
        }
      ],
      "source": [
        "my_set = {10, 20, 30}\n",
        "my_set.update([40, 50, 60])\n",
        "print(my_set)\n"
      ],
      "id": "Z-upfIXtfyVg"
    },
    {
      "cell_type": "markdown",
      "metadata": {
        "id": "zAaYvSjvfyVg"
      },
      "source": [
        "### Sets Q3\n",
        "\n",
        "**Problem:** Check if a set is a subset of another set.\n",
        "\n",
        "**Expected answer should look like (example):**\n",
        "```\n",
        "True/False\n",
        "```"
      ],
      "id": "zAaYvSjvfyVg"
    },
    {
      "cell_type": "code",
      "execution_count": null,
      "metadata": {
        "id": "XNQuqIzUfyVg",
        "colab": {
          "base_uri": "https://localhost:8080/"
        },
        "outputId": "ab42df78-5f56-4ecf-df65-b6bc8910060a"
      },
      "outputs": [
        {
          "output_type": "stream",
          "name": "stdout",
          "text": [
            "True\n"
          ]
        }
      ],
      "source": [
        "set1 = {1, 2, 3}\n",
        "set2 = {1, 2, 3, 4, 5}\n",
        "\n",
        "is_subset = set1.issubset(set2)\n",
        "print(is_subset)\n"
      ],
      "id": "XNQuqIzUfyVg"
    },
    {
      "cell_type": "markdown",
      "metadata": {
        "id": "c0GUHapUfyVg"
      },
      "source": [
        "### Sets Q4\n",
        "\n",
        "**Problem:** Check if a set is a superset of another set.\n",
        "\n",
        "**Expected answer should look like (example):**\n",
        "```\n",
        "True/False\n",
        "```"
      ],
      "id": "c0GUHapUfyVg"
    },
    {
      "cell_type": "code",
      "execution_count": null,
      "metadata": {
        "id": "OUKyM0_ufyVg",
        "colab": {
          "base_uri": "https://localhost:8080/"
        },
        "outputId": "88437f94-823a-4443-c567-22afe3d54d05"
      },
      "outputs": [
        {
          "output_type": "stream",
          "name": "stdout",
          "text": [
            "True\n"
          ]
        }
      ],
      "source": [
        "set1 = {1, 2, 3, 4, 5}\n",
        "set2 = {2, 3}\n",
        "\n",
        "is_superset = set1.issuperset(set2)\n",
        "print(is_superset)\n"
      ],
      "id": "OUKyM0_ufyVg"
    },
    {
      "cell_type": "markdown",
      "metadata": {
        "id": "53FrXj6NfyVh"
      },
      "source": [
        "### Sets Q5\n",
        "\n",
        "**Problem:** Find the difference between two sets.\n",
        "\n",
        "**Expected answer should look like (example):**\n",
        "```\n",
        "A - B set\n",
        "```"
      ],
      "id": "53FrXj6NfyVh"
    },
    {
      "cell_type": "code",
      "execution_count": null,
      "metadata": {
        "id": "SbID0wZ3fyVh",
        "colab": {
          "base_uri": "https://localhost:8080/"
        },
        "outputId": "bece2ff6-2830-4d7f-e8f9-f3d5c851fafe"
      },
      "outputs": [
        {
          "output_type": "stream",
          "name": "stdout",
          "text": [
            "{1, 2}\n"
          ]
        }
      ],
      "source": [
        "setA = {1, 2, 3, 4, 5}\n",
        "setB = {3, 4, 5, 6, 7}\n",
        "\n",
        "difference = setA - setB\n",
        "print(difference)\n"
      ],
      "id": "SbID0wZ3fyVh"
    },
    {
      "cell_type": "markdown",
      "metadata": {
        "id": "iC-Pvc3TfyVh"
      },
      "source": [
        "### Sets Q6\n",
        "\n",
        "**Problem:** Create a set of multiples of 3 from 1 to 15.\n",
        "\n",
        "**Expected answer should look like (example):**\n",
        "```\n",
        "{3, 6, 9, 12, 15}\n",
        "```"
      ],
      "id": "iC-Pvc3TfyVh"
    },
    {
      "cell_type": "code",
      "execution_count": null,
      "metadata": {
        "id": "mgIRy9RvfyVh",
        "colab": {
          "base_uri": "https://localhost:8080/"
        },
        "outputId": "4333b2a5-377a-4091-9796-6573540bc093"
      },
      "outputs": [
        {
          "output_type": "stream",
          "name": "stdout",
          "text": [
            "{3, 6, 9, 12, 15}\n"
          ]
        }
      ],
      "source": [
        "multiples_of_3 = {x for x in range(1, 16) if x % 3 == 0}\n",
        "print(multiples_of_3)\n"
      ],
      "id": "mgIRy9RvfyVh"
    },
    {
      "cell_type": "markdown",
      "metadata": {
        "id": "SwBOILWZfyVh"
      },
      "source": [
        "### Sets Q7\n",
        "\n",
        "**Problem:** Remove an element from a set using `discard()`.\n",
        "\n",
        "**Expected answer should look like (example):**\n",
        "```\n",
        "set without that element (no error if missing)\n",
        "```"
      ],
      "id": "SwBOILWZfyVh"
    },
    {
      "cell_type": "code",
      "execution_count": null,
      "metadata": {
        "id": "vHtkwEOgfyVh",
        "colab": {
          "base_uri": "https://localhost:8080/"
        },
        "outputId": "aea52a02-3f36-4111-de93-1f801ecceae5"
      },
      "outputs": [
        {
          "output_type": "stream",
          "name": "stdout",
          "text": [
            "{40, 10, 20}\n"
          ]
        }
      ],
      "source": [
        "my_set = {10, 20, 30, 40}\n",
        "my_set.discard(30)\n",
        "print(my_set)\n"
      ],
      "id": "vHtkwEOgfyVh"
    },
    {
      "cell_type": "markdown",
      "metadata": {
        "id": "0bIs5h7KfyVh"
      },
      "source": [
        "### Sets Q8\n",
        "\n",
        "**Problem:** Check if a set is empty.\n",
        "\n",
        "**Expected answer should look like (example):**\n",
        "```\n",
        "True/False\n",
        "```"
      ],
      "id": "0bIs5h7KfyVh"
    },
    {
      "cell_type": "code",
      "execution_count": null,
      "metadata": {
        "id": "ilBpbKVIfyVh",
        "colab": {
          "base_uri": "https://localhost:8080/"
        },
        "outputId": "497d2761-3798-46a2-bba3-cbb69a5a4aa9"
      },
      "outputs": [
        {
          "output_type": "stream",
          "name": "stdout",
          "text": [
            "True\n"
          ]
        }
      ],
      "source": [
        "my_set = set()\n",
        "\n",
        "is_empty = len(my_set) == 0\n",
        "print(is_empty)\n"
      ],
      "id": "ilBpbKVIfyVh"
    },
    {
      "cell_type": "markdown",
      "metadata": {
        "id": "Ob4hYWQGfyVh"
      },
      "source": [
        "### Sets Q9\n",
        "\n",
        "**Problem:** Find the maximum element in a set.\n",
        "\n",
        "**Expected answer should look like (example):**\n",
        "```\n",
        "max_value\n",
        "```"
      ],
      "id": "Ob4hYWQGfyVh"
    },
    {
      "cell_type": "code",
      "execution_count": null,
      "metadata": {
        "id": "b4bHmMIyfyVh",
        "colab": {
          "base_uri": "https://localhost:8080/"
        },
        "outputId": "b201290f-1e61-4351-d7de-0a6376cafbb4"
      },
      "outputs": [
        {
          "output_type": "stream",
          "name": "stdout",
          "text": [
            "50\n"
          ]
        }
      ],
      "source": [
        "my_set = {10, 20, 30, 40, 50}\n",
        "\n",
        "max_value = max(my_set)\n",
        "print(max_value)\n"
      ],
      "id": "b4bHmMIyfyVh"
    },
    {
      "cell_type": "markdown",
      "metadata": {
        "id": "RHn1Kk-ufyVh"
      },
      "source": [
        "### Sets Q10\n",
        "\n",
        "**Problem:** Find the minimum element in a set.\n",
        "\n",
        "**Expected answer should look like (example):**\n",
        "```\n",
        "min_value\n",
        "```"
      ],
      "id": "RHn1Kk-ufyVh"
    },
    {
      "cell_type": "code",
      "execution_count": null,
      "metadata": {
        "id": "ePKcbSaafyVh",
        "colab": {
          "base_uri": "https://localhost:8080/"
        },
        "outputId": "8f400e2d-3e06-49b4-8391-d1da1ce66696"
      },
      "outputs": [
        {
          "output_type": "stream",
          "name": "stdout",
          "text": [
            "10\n"
          ]
        }
      ],
      "source": [
        "my_set = {10, 20, 30, 40, 50}\n",
        "\n",
        "min_value = min(my_set)\n",
        "print(min_value)\n"
      ],
      "id": "ePKcbSaafyVh"
    },
    {
      "cell_type": "markdown",
      "metadata": {
        "id": "AzYVe4E2fyVh"
      },
      "source": [
        "### Sets Q11\n",
        "\n",
        "**Problem:** Create a frozen set with elements 'a', 'b', and 'c'.\n",
        "\n",
        "**Expected answer should look like (example):**\n",
        "```\n",
        "frozenset({'a','b','c'})\n",
        "```"
      ],
      "id": "AzYVe4E2fyVh"
    },
    {
      "cell_type": "code",
      "execution_count": null,
      "metadata": {
        "id": "AhMpp5WdfyVh",
        "colab": {
          "base_uri": "https://localhost:8080/"
        },
        "outputId": "39462e7a-3639-43d2-c1f1-37dc1d944f97"
      },
      "outputs": [
        {
          "output_type": "stream",
          "name": "stdout",
          "text": [
            "frozenset({'b', 'a', 'c'})\n"
          ]
        }
      ],
      "source": [
        "my_frozenset = frozenset(['a', 'b', 'c'])\n",
        "print(my_frozenset)\n"
      ],
      "id": "AhMpp5WdfyVh"
    },
    {
      "cell_type": "markdown",
      "metadata": {
        "id": "b7SIy4MWfyVh"
      },
      "source": [
        "### Sets Q12\n",
        "\n",
        "**Problem:** Check if a frozen set is immutable by attempting to add an element.\n",
        "\n",
        "**Expected answer should look like (example):**\n",
        "```\n",
        "AttributeError shown/handled\n",
        "```"
      ],
      "id": "b7SIy4MWfyVh"
    },
    {
      "cell_type": "code",
      "execution_count": null,
      "metadata": {
        "id": "kaW8KcrnfyVi",
        "colab": {
          "base_uri": "https://localhost:8080/"
        },
        "outputId": "20497d33-fd3e-4b4c-8ba2-77e5c3741fec"
      },
      "outputs": [
        {
          "output_type": "stream",
          "name": "stdout",
          "text": [
            "Error: 'frozenset' object has no attribute 'add'\n"
          ]
        }
      ],
      "source": [
        "my_frozenset = frozenset(['a', 'b', 'c'])\n",
        "\n",
        "try:\n",
        "    my_frozenset.add('d')  # Attempt to add an element\n",
        "except AttributeError as e:\n",
        "    print(\"Error:\", e)\n"
      ],
      "id": "kaW8KcrnfyVi"
    },
    {
      "cell_type": "markdown",
      "metadata": {
        "id": "u4PGg21HfyVi"
      },
      "source": [
        "### Sets Q13\n",
        "\n",
        "**Problem:** Find the union of a frozen set with a regular set.\n",
        "\n",
        "**Expected answer should look like (example):**\n",
        "```\n",
        "combined set\n",
        "```"
      ],
      "id": "u4PGg21HfyVi"
    },
    {
      "cell_type": "code",
      "execution_count": null,
      "metadata": {
        "id": "CFjOTXsAfyVi",
        "colab": {
          "base_uri": "https://localhost:8080/"
        },
        "outputId": "2607801d-2885-46b7-9441-51828eb791fb"
      },
      "outputs": [
        {
          "output_type": "stream",
          "name": "stdout",
          "text": [
            "frozenset({'b', 'd', 'e', 'a', 'c'})\n"
          ]
        }
      ],
      "source": [
        "fset = frozenset(['a', 'b', 'c'])\n",
        "rset = {'c', 'd', 'e'}\n",
        "\n",
        "combined = fset.union(rset)\n",
        "print(combined)\n"
      ],
      "id": "CFjOTXsAfyVi"
    },
    {
      "cell_type": "markdown",
      "metadata": {
        "id": "l1AxUrgbfyVi"
      },
      "source": [
        "### Sets Q14\n",
        "\n",
        "**Problem:** Convert a list with duplicate elements into a set to remove duplicates.\n",
        "\n",
        "**Expected answer should look like (example):**\n",
        "```\n",
        "{unique_elements}\n",
        "```"
      ],
      "id": "l1AxUrgbfyVi"
    },
    {
      "cell_type": "code",
      "execution_count": null,
      "metadata": {
        "id": "uGYqDg-EfyVi",
        "colab": {
          "base_uri": "https://localhost:8080/"
        },
        "outputId": "f07e9c29-fa75-4f58-90a9-3f122753e746"
      },
      "outputs": [
        {
          "output_type": "stream",
          "name": "stdout",
          "text": [
            "{1, 2, 3, 4, 5}\n"
          ]
        }
      ],
      "source": [
        "my_list = [1, 2, 2, 3, 4, 4, 5]\n",
        "unique_set = set(my_list)\n",
        "print(unique_set)\n"
      ],
      "id": "uGYqDg-EfyVi"
    },
    {
      "cell_type": "markdown",
      "metadata": {
        "id": "LNVwzH2dfyVi"
      },
      "source": [
        "### Sets Q15\n",
        "\n",
        "**Problem:** Create a set comprehension to generate squares of numbers from 1 to 5.\n",
        "\n",
        "**Expected answer should look like (example):**\n",
        "```\n",
        "{1,4,9,16,25}\n",
        "```"
      ],
      "id": "LNVwzH2dfyVi"
    },
    {
      "cell_type": "code",
      "execution_count": null,
      "metadata": {
        "id": "ZL075CBkfyVi",
        "colab": {
          "base_uri": "https://localhost:8080/"
        },
        "outputId": "cc76f993-eb15-4df3-f363-a90017c68529"
      },
      "outputs": [
        {
          "output_type": "stream",
          "name": "stdout",
          "text": [
            "{1, 4, 9, 16, 25}\n"
          ]
        }
      ],
      "source": [
        "squares = {x**2 for x in range(1, 6)}\n",
        "print(squares)\n"
      ],
      "id": "ZL075CBkfyVi"
    },
    {
      "cell_type": "markdown",
      "metadata": {
        "id": "D0DqSpwUfyVi"
      },
      "source": [
        "### Sets Q16\n",
        "\n",
        "**Problem:** Use the `intersection()` method on two sets.\n",
        "\n",
        "**Expected answer should look like (example):**\n",
        "```\n",
        "A ∩ B\n",
        "```"
      ],
      "id": "D0DqSpwUfyVi"
    },
    {
      "cell_type": "code",
      "execution_count": null,
      "metadata": {
        "id": "CSbQd9H8fyVi",
        "colab": {
          "base_uri": "https://localhost:8080/"
        },
        "outputId": "f10bcccd-3516-4757-8b36-5cd47d18d0b1"
      },
      "outputs": [
        {
          "output_type": "stream",
          "name": "stdout",
          "text": [
            "{4, 5}\n"
          ]
        }
      ],
      "source": [
        "setA = {1, 2, 3, 4, 5}\n",
        "setB = {4, 5, 6, 7}\n",
        "\n",
        "intersection = setA.intersection(setB)\n",
        "print(intersection)\n"
      ],
      "id": "CSbQd9H8fyVi"
    },
    {
      "cell_type": "markdown",
      "metadata": {
        "id": "q2Zf6kwEfyVi"
      },
      "source": [
        "### Sets Q17\n",
        "\n",
        "**Problem:** Use `symmetric_difference()` between two sets.\n",
        "\n",
        "**Expected answer should look like (example):**\n",
        "```\n",
        "(A Δ B) set\n",
        "```"
      ],
      "id": "q2Zf6kwEfyVi"
    },
    {
      "cell_type": "code",
      "execution_count": null,
      "metadata": {
        "id": "JJOjcx6MfyVi",
        "colab": {
          "base_uri": "https://localhost:8080/"
        },
        "outputId": "052f59f5-6c87-4ede-b71d-9fcee887dfbe"
      },
      "outputs": [
        {
          "output_type": "stream",
          "name": "stdout",
          "text": [
            "{1, 2, 3, 6, 7}\n"
          ]
        }
      ],
      "source": [
        "setA = {1, 2, 3, 4, 5}\n",
        "setB = {4, 5, 6, 7}\n",
        "\n",
        "sym_diff = setA.symmetric_difference(setB)\n",
        "print(sym_diff)\n"
      ],
      "id": "JJOjcx6MfyVi"
    },
    {
      "cell_type": "markdown",
      "metadata": {
        "id": "iyPjq03kfyVj"
      },
      "source": [
        "### Sets Q18\n",
        "\n",
        "**Problem:** Iterate over elements of a set using a loop.\n",
        "\n",
        "**Expected answer should look like (example):**\n",
        "```\n",
        "elements printed (order arbitrary)\n",
        "```"
      ],
      "id": "iyPjq03kfyVj"
    },
    {
      "cell_type": "code",
      "execution_count": null,
      "metadata": {
        "id": "kchujqXKfyVj",
        "colab": {
          "base_uri": "https://localhost:8080/"
        },
        "outputId": "7bdc3c53-bcf5-44fd-c907-1d5f9cf69776"
      },
      "outputs": [
        {
          "output_type": "stream",
          "name": "stdout",
          "text": [
            "50\n",
            "20\n",
            "40\n",
            "10\n",
            "30\n"
          ]
        }
      ],
      "source": [
        "my_set = {10, 20, 30, 40, 50}\n",
        "\n",
        "for element in my_set:\n",
        "    print(element)\n"
      ],
      "id": "kchujqXKfyVj"
    },
    {
      "cell_type": "markdown",
      "metadata": {
        "id": "hxzkafUefyVj"
      },
      "source": [
        "### Sets Q19\n",
        "\n",
        "**Problem:** Count elements in a set using `len()`.\n",
        "\n",
        "**Expected answer should look like (example):**\n",
        "```\n",
        "integer_count\n",
        "```"
      ],
      "id": "hxzkafUefyVj"
    },
    {
      "cell_type": "code",
      "execution_count": null,
      "metadata": {
        "id": "M5lUlSKUfyVj",
        "colab": {
          "base_uri": "https://localhost:8080/"
        },
        "outputId": "9befc475-451b-4be3-c650-d784614c74c4"
      },
      "outputs": [
        {
          "output_type": "stream",
          "name": "stdout",
          "text": [
            "5\n"
          ]
        }
      ],
      "source": [
        "my_set = {10, 20, 30, 40, 50}\n",
        "integer_count = len(my_set)\n",
        "print(integer_count)\n"
      ],
      "id": "M5lUlSKUfyVj"
    },
    {
      "cell_type": "markdown",
      "metadata": {
        "id": "60brTOPlfyVj"
      },
      "source": [
        "### Sets Q20\n",
        "\n",
        "**Problem:** Copy a set using `copy()` and verify it is separate.\n",
        "\n",
        "**Expected answer should look like (example):**\n",
        "```\n",
        "True when A is B is False; mutation doesn't affect copy\n",
        "```"
      ],
      "id": "60brTOPlfyVj"
    },
    {
      "cell_type": "code",
      "execution_count": null,
      "metadata": {
        "id": "_9s80IdsfyVj",
        "colab": {
          "base_uri": "https://localhost:8080/"
        },
        "outputId": "85fbbe35-9f93-4e6b-9578-0c15c1905ed8"
      },
      "outputs": [
        {
          "output_type": "stream",
          "name": "stdout",
          "text": [
            "False\n",
            "Original set: {1, 2, 3, 4}\n",
            "Copied set: {1, 2, 3}\n"
          ]
        }
      ],
      "source": [
        "setA = {1, 2, 3}\n",
        "setB = setA.copy()\n",
        "\n",
        "print(setA is setB)\n",
        "\n",
        "setA.add(4)\n",
        "print(\"Original set:\", setA)\n",
        "print(\"Copied set:\", setB)\n"
      ],
      "id": "_9s80IdsfyVj"
    },
    {
      "cell_type": "markdown",
      "metadata": {
        "id": "SpYizfRbfyVl"
      },
      "source": [
        "## Submission Note\n",
        "\n",
        "Dear student, kindly save this file on your computer and fill the assignment form that is there in your WhatsApp group to submit this assignment."
      ],
      "id": "SpYizfRbfyVl"
    }
  ],
  "metadata": {
    "kernelspec": {
      "display_name": "Python 3",
      "language": "python",
      "name": "python3"
    },
    "language_info": {
      "codemirror_mode": {
        "name": "ipython",
        "version": 3
      },
      "file_extension": ".py",
      "mimetype": "text/x-python",
      "name": "python",
      "nbconvert_exporter": "python",
      "pygments_lexer": "ipython3",
      "version": "3.11.8"
    },
    "colab": {
      "provenance": [],
      "include_colab_link": true
    }
  },
  "nbformat": 4,
  "nbformat_minor": 5
}
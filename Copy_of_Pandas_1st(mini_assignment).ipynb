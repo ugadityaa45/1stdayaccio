{
  "cells": [
    {
      "cell_type": "markdown",
      "metadata": {
        "id": "view-in-github",
        "colab_type": "text"
      },
      "source": [
        "<a href=\"https://colab.research.google.com/github/ugadityaa45/1stdayaccio/blob/main/Copy_of_Pandas_1st(mini_assignment).ipynb\" target=\"_parent\"><img src=\"https://colab.research.google.com/assets/colab-badge.svg\" alt=\"Open In Colab\"/></a>"
      ]
    },
    {
      "cell_type": "markdown",
      "id": "aed467f0",
      "metadata": {
        "id": "aed467f0"
      },
      "source": [
        "# Pandas First Exercises\n",
        "Dear Students this notebook contains simple exercises for beginners to practice basic Pandas operations such as creating Series, DataFrames, saving files, and importing data."
      ]
    },
    {
      "cell_type": "markdown",
      "id": "99bfd544",
      "metadata": {
        "id": "99bfd544"
      },
      "source": [
        "### Exercise 1: Creating Pandas Series"
      ]
    },
    {
      "cell_type": "markdown",
      "id": "7b27040c",
      "metadata": {
        "id": "7b27040c"
      },
      "source": [
        "1. Create a Pandas Series containing the marks of 5 students in Maths.\n",
        "2. Create a Pandas Series that stores 5 city names.\n",
        "3. Create a Pandas Series with 5 different floating-point numbers representing temperature readings."
      ]
    },
    {
      "cell_type": "code",
      "source": [
        "import pandas as pd\n",
        "\n",
        "Maths_marks = [10, 20, 30, 40, 50]\n",
        "s = pd.Series(Maths_marks)\n",
        "\n",
        "print(s)\n",
        "City_Name=[\"aligarh\",\"noida\",\"ghz\",\"delhi\",\"Mumbai\"]\n",
        "print(pd.Series(City_Name))\n",
        "temperatures = pd.Series([36.5, 37.2, 38.0, 36.8, 37.5])\n",
        "\n",
        "print(temperatures)"
      ],
      "metadata": {
        "id": "OK7V5fd5kmrn",
        "outputId": "cf36c004-e1dd-4f38-8873-0f50b2e46038",
        "colab": {
          "base_uri": "https://localhost:8080/"
        }
      },
      "id": "OK7V5fd5kmrn",
      "execution_count": null,
      "outputs": [
        {
          "output_type": "stream",
          "name": "stdout",
          "text": [
            "0    10\n",
            "1    20\n",
            "2    30\n",
            "3    40\n",
            "4    50\n",
            "dtype: int64\n",
            "0    aligarh\n",
            "1      noida\n",
            "2        ghz\n",
            "3      delhi\n",
            "4     Mumbai\n",
            "dtype: object\n",
            "0    36.5\n",
            "1    37.2\n",
            "2    38.0\n",
            "3    36.8\n",
            "4    37.5\n",
            "dtype: float64\n"
          ]
        }
      ]
    },
    {
      "cell_type": "markdown",
      "id": "40f70f70",
      "metadata": {
        "id": "40f70f70"
      },
      "source": [
        "### Exercise 2: Creating DataFrames from Series"
      ]
    },
    {
      "cell_type": "markdown",
      "id": "dcbe763b",
      "metadata": {
        "id": "dcbe763b"
      },
      "source": [
        "1. Create two Series: one containing student names and another containing their ages. Combine them into a single DataFrame.\n",
        "2. Create three Series: 'Product Name', 'Price', and 'Quantity'. Combine them into one DataFrame and display it."
      ]
    },
    {
      "cell_type": "code",
      "source": [
        "students = pd.Series(['Alice', 'Bob', 'Charlie', 'David'])\n",
        "ages = pd.Series([20, 22, 19, 21])\n",
        "\n",
        "data = pd.DataFrame({\n",
        "    'Name': students,\n",
        "    'Age': ages\n",
        "})\n",
        "\n",
        "print(data)\n",
        "\n",
        "\n",
        "product_name = pd.Series(['Laptop', 'Mouse', 'Keyboard'])\n",
        "price = pd.Series([60000, 800, 1500])\n",
        "quantity = pd.Series([5, 20, 10])\n",
        "\n",
        "df = pd.DataFrame({\n",
        "    'Product Name': product_name,\n",
        "    'Price': price,\n",
        "    'Quantity': quantity\n",
        "})\n",
        "\n",
        "print(df)\n",
        "\n"
      ],
      "metadata": {
        "id": "_E_7kzvVkp7e",
        "outputId": "8894b96f-6578-426f-9ab9-3660feeb29a5",
        "colab": {
          "base_uri": "https://localhost:8080/"
        }
      },
      "id": "_E_7kzvVkp7e",
      "execution_count": null,
      "outputs": [
        {
          "output_type": "stream",
          "name": "stdout",
          "text": [
            "      Name  Age\n",
            "0    Alice   20\n",
            "1      Bob   22\n",
            "2  Charlie   19\n",
            "3    David   21\n",
            "  Product Name  Price  Quantity\n",
            "0       Laptop  60000         5\n",
            "1        Mouse    800        20\n",
            "2     Keyboard   1500        10\n"
          ]
        }
      ]
    },
    {
      "cell_type": "markdown",
      "id": "13c74f3d",
      "metadata": {
        "id": "13c74f3d"
      },
      "source": [
        "### Exercise 3: Creating DataFrames from Dictionaries"
      ]
    },
    {
      "cell_type": "markdown",
      "id": "14cd2ed5",
      "metadata": {
        "id": "14cd2ed5"
      },
      "source": [
        "1. Create a dictionary with keys as 'Name', 'Age', and 'City', each containing a list of 3 values. Convert it into a DataFrame.\n",
        "2. Create a dictionary with keys 'Product', 'Category', and 'Price'. Convert it into a DataFrame and print it."
      ]
    },
    {
      "cell_type": "code",
      "source": [
        "data = {\n",
        "    'Name': ['Alice', 'Bob', 'Charlie'],\n",
        "    'Age': [20, 22, 19],\n",
        "    'City': ['Delhi', 'Mumbai', 'Kolkata']\n",
        "}\n",
        "\n",
        "df = pd.DataFrame(data)\n",
        "\n",
        "print(df)\n",
        "\n",
        "data1= {\n",
        "    'Product': ['Laptop', 'Shampoo', 'Book'],\n",
        "    'Category': ['Electronics', 'Personal Care', 'Stationery'],\n",
        "    'Price': [60000, 250, 120]\n",
        "}\n",
        "\n",
        "df = pd.DataFrame(data1)\n",
        "\n",
        "\n",
        "print(df)"
      ],
      "metadata": {
        "id": "JLxq4HlGkqig",
        "outputId": "8a746fa1-ccca-4889-a306-8ee8e6847a3a",
        "colab": {
          "base_uri": "https://localhost:8080/"
        }
      },
      "id": "JLxq4HlGkqig",
      "execution_count": null,
      "outputs": [
        {
          "output_type": "stream",
          "name": "stdout",
          "text": [
            "      Name  Age     City\n",
            "0    Alice   20    Delhi\n",
            "1      Bob   22   Mumbai\n",
            "2  Charlie   19  Kolkata\n",
            "   Product       Category  Price\n",
            "0   Laptop    Electronics  60000\n",
            "1  Shampoo  Personal Care    250\n",
            "2     Book     Stationery    120\n"
          ]
        }
      ]
    },
    {
      "cell_type": "markdown",
      "id": "76437b78",
      "metadata": {
        "id": "76437b78"
      },
      "source": [
        "### Exercise 4: Saving DataFrames to CSV and Excel"
      ]
    },
    {
      "cell_type": "markdown",
      "id": "a7b957b3",
      "metadata": {
        "id": "a7b957b3"
      },
      "source": [
        "1. Save any one of your created DataFrames into a CSV file named 'students.csv'.\n",
        "2. Save another DataFrame into an Excel file named 'products.xlsx'."
      ]
    },
    {
      "cell_type": "code",
      "source": [
        "df.to_csv('students.csv', index=False)\n",
        "df.to_excel('data.xlsx',index=False)"
      ],
      "metadata": {
        "id": "idvCtoUfJQWh"
      },
      "id": "idvCtoUfJQWh",
      "execution_count": null,
      "outputs": []
    },
    {
      "cell_type": "code",
      "source": [
        "#answer here"
      ],
      "metadata": {
        "id": "1ewTIFMykrER"
      },
      "id": "1ewTIFMykrER",
      "execution_count": null,
      "outputs": []
    },
    {
      "cell_type": "markdown",
      "id": "003c619d",
      "metadata": {
        "id": "003c619d"
      },
      "source": [
        "### Exercise 5: Reading Data from Files"
      ]
    },
    {
      "cell_type": "markdown",
      "id": "acbd6ed2",
      "metadata": {
        "id": "acbd6ed2"
      },
      "source": [
        "1. Use Pandas to read the CSV file 'students.csv' that you created earlier.\n",
        "2. Use Pandas to read the Excel file 'products.xlsx' that you created earlier."
      ]
    },
    {
      "cell_type": "code",
      "source": [
        "var=pd.read_csv(\"/content/students.csv\")\n",
        "# print(var)\n",
        "var2=pd.read_excel(\"/content/data.xlsx\")\n",
        "print(var2)"
      ],
      "metadata": {
        "id": "4abENRlTkrsx",
        "outputId": "8b167730-387e-4fde-d673-ffca2510a5aa",
        "colab": {
          "base_uri": "https://localhost:8080/"
        }
      },
      "id": "4abENRlTkrsx",
      "execution_count": null,
      "outputs": [
        {
          "output_type": "stream",
          "name": "stdout",
          "text": [
            "      Name  Age     City\n",
            "0    Alice   20    Delhi\n",
            "1      Bob   22   Mumbai\n",
            "2  Charlie   19  Kolkata\n"
          ]
        }
      ]
    }
  ],
  "metadata": {
    "colab": {
      "provenance": [],
      "include_colab_link": true
    },
    "language_info": {
      "name": "python"
    },
    "kernelspec": {
      "name": "python3",
      "display_name": "Python 3"
    }
  },
  "nbformat": 4,
  "nbformat_minor": 5
}
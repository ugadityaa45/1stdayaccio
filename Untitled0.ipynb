{
  "nbformat": 4,
  "nbformat_minor": 0,
  "metadata": {
    "colab": {
      "provenance": [],
      "authorship_tag": "ABX9TyNlXey9Zbwmyc953ZSuXvuD",
      "include_colab_link": true
    },
    "kernelspec": {
      "name": "python3",
      "display_name": "Python 3"
    },
    "language_info": {
      "name": "python"
    }
  },
  "cells": [
    {
      "cell_type": "markdown",
      "metadata": {
        "id": "view-in-github",
        "colab_type": "text"
      },
      "source": [
        "<a href=\"https://colab.research.google.com/github/ugadityaa45/1stdayaccio/blob/main/Untitled0.ipynb\" target=\"_parent\"><img src=\"https://colab.research.google.com/assets/colab-badge.svg\" alt=\"Open In Colab\"/></a>"
      ]
    },
    {
      "cell_type": "code",
      "execution_count": 1,
      "metadata": {
        "colab": {
          "base_uri": "https://localhost:8080/"
        },
        "id": "cGpNMdIQO9eg",
        "outputId": "1738691f-a4d1-4e71-8592-adc128362193"
      },
      "outputs": [
        {
          "output_type": "stream",
          "name": "stdout",
          "text": [
            "=============================================\n",
            "        RANDOM FAKE NEWS HEADLINES\n",
            "=============================================\n",
            "1. Donald Trump caught dancing with a robot!\n",
            "2. Virat Kohli writes book about a robot!\n",
            "3. Virat Kohli launches new app for the moon!\n",
            "4. Tom Cruise launches new app for the moon!\n",
            "5. Elon Musk caught dancing with the moon!\n",
            "=============================================\n"
          ]
        }
      ],
      "source": [
        "import random\n",
        "\n",
        "# Data lists\n",
        "people_list = [\n",
        "    \"Narendra Modi\", \"Virat Kohli\", \"Priyanka Chopra\", \"Donald Trump\",\n",
        "    \"Elon Musk\", \"Taylor Swift\", \"Tom Cruise\", \"Amitabh Bachchan\"\n",
        "]\n",
        "\n",
        "activity_list = [\n",
        "    \"launches new app for\", \"caught dancing with\", \"plans to replace\",\n",
        "    \"arguing with\", \"creates AI that controls\", \"writes book about\"\n",
        "]\n",
        "\n",
        "target_list = [\n",
        "    \"the moon\", \"a robot\", \"Bollywood stars\", \"students in Delhi\",\n",
        "    \"alien technology\", \"the Parliament\"\n",
        "]\n",
        "\n",
        "\n",
        "def generate_headline():\n",
        "    person = random.choice(people_list)\n",
        "    activity = random.choice(activity_list)\n",
        "    target = random.choice(target_list)\n",
        "    return f\"{person} {activity} {target}!\"\n",
        "\n",
        "\n",
        "# Automatically print random headlines\n",
        "print(\"=\" * 45)\n",
        "print(\"        RANDOM FAKE NEWS HEADLINES\")\n",
        "print(\"=\" * 45)\n",
        "\n",
        "for i in range(5):  # change 5 to however many you want\n",
        "    print(f\"{i + 1}. {generate_headline()}\")\n",
        "\n",
        "print(\"=\" * 45)\n"
      ]
    }
  ]
}
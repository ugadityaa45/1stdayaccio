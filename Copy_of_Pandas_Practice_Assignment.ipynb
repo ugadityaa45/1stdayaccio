{
  "cells": [
    {
      "cell_type": "markdown",
      "metadata": {
        "id": "view-in-github",
        "colab_type": "text"
      },
      "source": [
        "<a href=\"https://colab.research.google.com/github/ugadityaa45/1stdayaccio/blob/main/Copy_of_Pandas_Practice_Assignment.ipynb\" target=\"_parent\"><img src=\"https://colab.research.google.com/assets/colab-badge.svg\" alt=\"Open In Colab\"/></a>"
      ]
    },
    {
      "cell_type": "markdown",
      "id": "9b4db2fd",
      "metadata": {
        "id": "9b4db2fd"
      },
      "source": [
        "# Pandas Practice Notebook\n",
        "Dear Students this notebook will help you practice Important Pandas operations step-by-step.\n"
      ]
    },
    {
      "cell_type": "markdown",
      "id": "48c112e5",
      "metadata": {
        "id": "48c112e5"
      },
      "source": [
        "## 1. File Import using Pandas\n",
        "Below are some examples to import files in Pandas and practice questions."
      ]
    },
    {
      "cell_type": "code",
      "execution_count": null,
      "id": "866ca894",
      "metadata": {
        "id": "866ca894"
      },
      "outputs": [],
      "source": [
        "# Example: Importing CSV, Excel, and JSON files\n",
        "import pandas as pd\n",
        "\n",
        "# Read CSV\n",
        "df_csv = pd.read_csv('data.csv')\n",
        "\n",
        "# Read Excel\n",
        "df_excel = pd.read_excel('data.xlsx')\n",
        "\n",
        "# Read JSON\n",
        "df_json = pd.read_json('data.json')"
      ]
    },
    {
      "cell_type": "markdown",
      "id": "057ad770",
      "metadata": {
        "id": "057ad770"
      },
      "source": [
        "### Practice Questions\n",
        "1. Import the file `sales.csv` and display the first 5 rows.\n",
        "2. Import the Excel file `students.xlsx` and check its columns.\n",
        "3. Import any JSON file and find its shape."
      ]
    },
    {
      "cell_type": "code",
      "execution_count": 6,
      "id": "9ddeae3b",
      "metadata": {
        "id": "9ddeae3b",
        "outputId": "22985e0e-56e9-4aae-8023-cd223412e184",
        "colab": {
          "base_uri": "https://localhost:8080/"
        }
      },
      "outputs": [
        {
          "output_type": "stream",
          "name": "stdout",
          "text": [
            "\n",
            "Shape of the JSON file:\n",
            "(100, 7)\n"
          ]
        }
      ],
      "source": [
        "# Answer here\n",
        "import pandas as pd\n",
        "df_csv = pd.read_csv('data.csv')\n",
        "\n",
        "print(df_csv.head())\n",
        "\n",
        "# 2. Import the Excel file and check its columns\n",
        "students_df = pd.read_excel(\"/content/student.xlsx.xlsx\")\n",
        "print(students_df.columns)\n",
        "\n",
        "# # 3. Import a JSON file and find its shape\n",
        "data_df = pd.read_json(\"/content/Student_JSON.json\")\n",
        "print(data_df.shape)\n"
      ]
    },
    {
      "cell_type": "markdown",
      "id": "3b7b9584",
      "metadata": {
        "id": "3b7b9584"
      },
      "source": [
        "## 2. File Export using Pandas\n",
        "You can export data to different formats like CSV, Excel, and JSON."
      ]
    },
    {
      "cell_type": "code",
      "execution_count": 7,
      "id": "d16eda12",
      "metadata": {
        "id": "d16eda12",
        "colab": {
          "base_uri": "https://localhost:8080/",
          "height": 193
        },
        "outputId": "c295f6f3-0ac0-47bb-a512-8c2277b649f1"
      },
      "outputs": [
        {
          "output_type": "error",
          "ename": "NameError",
          "evalue": "name 'df' is not defined",
          "traceback": [
            "\u001b[0;31m---------------------------------------------------------------------------\u001b[0m",
            "\u001b[0;31mNameError\u001b[0m                                 Traceback (most recent call last)",
            "\u001b[0;32m/tmp/ipython-input-3927555410.py\u001b[0m in \u001b[0;36m<cell line: 0>\u001b[0;34m()\u001b[0m\n\u001b[1;32m      1\u001b[0m \u001b[0;31m# Example: Exporting DataFrame to different formats\u001b[0m\u001b[0;34m\u001b[0m\u001b[0;34m\u001b[0m\u001b[0m\n\u001b[0;32m----> 2\u001b[0;31m \u001b[0mdf\u001b[0m\u001b[0;34m.\u001b[0m\u001b[0mto_csv\u001b[0m\u001b[0;34m(\u001b[0m\u001b[0;34m'output.csv'\u001b[0m\u001b[0;34m,\u001b[0m \u001b[0mindex\u001b[0m\u001b[0;34m=\u001b[0m\u001b[0;32mFalse\u001b[0m\u001b[0;34m)\u001b[0m\u001b[0;34m\u001b[0m\u001b[0;34m\u001b[0m\u001b[0m\n\u001b[0m\u001b[1;32m      3\u001b[0m \u001b[0mdf\u001b[0m\u001b[0;34m.\u001b[0m\u001b[0mto_excel\u001b[0m\u001b[0;34m(\u001b[0m\u001b[0;34m'output.xlsx'\u001b[0m\u001b[0;34m,\u001b[0m \u001b[0mindex\u001b[0m\u001b[0;34m=\u001b[0m\u001b[0;32mFalse\u001b[0m\u001b[0;34m)\u001b[0m\u001b[0;34m\u001b[0m\u001b[0;34m\u001b[0m\u001b[0m\n\u001b[1;32m      4\u001b[0m \u001b[0mdf\u001b[0m\u001b[0;34m.\u001b[0m\u001b[0mto_json\u001b[0m\u001b[0;34m(\u001b[0m\u001b[0;34m'output.json'\u001b[0m\u001b[0;34m)\u001b[0m\u001b[0;34m\u001b[0m\u001b[0;34m\u001b[0m\u001b[0m\n",
            "\u001b[0;31mNameError\u001b[0m: name 'df' is not defined"
          ]
        }
      ],
      "source": [
        "# Example: Exporting DataFrame to different formats\n",
        "df.to_csv('output.csv', index=False)\n",
        "df.to_excel('output.xlsx', index=False)\n",
        "df.to_json('output.json')"
      ]
    },
    {
      "cell_type": "markdown",
      "id": "fe8c3ce0",
      "metadata": {
        "id": "fe8c3ce0"
      },
      "source": [
        "### Practice Questions\n",
        "1. Export any given DataFrame to CSV format without index.\n",
        "2. Export the same DataFrame to Excel with the name 'Sheet1'.\n",
        "3. Export to JSON format with indentation."
      ]
    },
    {
      "cell_type": "code",
      "execution_count": 11,
      "id": "d47e324e",
      "metadata": {
        "id": "d47e324e"
      },
      "outputs": [],
      "source": [
        "import pandas as pd\n",
        "\n",
        "data = {\n",
        "    'Name': ['Amit', 'Riya', 'Karan'],\n",
        "    'Age': [23, 21, 25],\n",
        "    'City': ['Delhi', 'Mumbai', 'Pune']\n",
        "}\n",
        "\n",
        "df = pd.DataFrame(data)\n",
        "\n",
        "# Export to CSV without index\n",
        "df.to_csv(\"students.csv\", index=False)\n",
        "\n",
        "# Export to Excel with sheet name 'Sheet1'\n",
        "df.to_excel(\"students.xlsx\", sheet_name='Sheet1', index=False)\n",
        "\n",
        "# Export to JSON with indentation\n",
        "df.to_json(\"students.json\", indent=4)"
      ]
    },
    {
      "cell_type": "markdown",
      "id": "f1d3b073",
      "metadata": {
        "id": "f1d3b073"
      },
      "source": [
        "## 3. Creating Series and DataFrames"
      ]
    },
    {
      "cell_type": "code",
      "execution_count": 14,
      "id": "b3fd56bb",
      "metadata": {
        "id": "b3fd56bb",
        "colab": {
          "base_uri": "https://localhost:8080/"
        },
        "outputId": "97b34629-2f97-4945-d4bd-fcc1040aa05d"
      },
      "outputs": [
        {
          "output_type": "stream",
          "name": "stdout",
          "text": [
            "0    10\n",
            "1    20\n",
            "2    30\n",
            "Name: Sales, dtype: int64\n",
            "   Name  Age\n",
            "0  Amit   22\n",
            "1  Riya   24\n",
            "2  John   26\n"
          ]
        }
      ],
      "source": [
        "# Example: Creating Series and DataFrame\n",
        "series = pd.Series([10, 20, 30], name='Sales')\n",
        "data = {'Name': ['Amit', 'Riya', 'John'], 'Age': [22, 24, 26]}\n",
        "df = pd.DataFrame(data)\n",
        "print(series)\n",
        "print(df)"
      ]
    },
    {
      "cell_type": "markdown",
      "id": "0cea8700",
      "metadata": {
        "id": "0cea8700"
      },
      "source": [
        "### Practice Questions\n",
        "1. Create a Series of 5 numbers named 'Marks'.\n",
        "2. Create a DataFrame of 3 students with columns 'Name', 'Score', 'City'.\n",
        "3. Print shape, head, and describe of your DataFrame."
      ]
    },
    {
      "cell_type": "code",
      "execution_count": 27,
      "id": "d632d104",
      "metadata": {
        "id": "d632d104",
        "colab": {
          "base_uri": "https://localhost:8080/"
        },
        "outputId": "03de48f9-16d1-4fd1-a61f-66e20dcbd1ce"
      },
      "outputs": [
        {
          "output_type": "stream",
          "name": "stdout",
          "text": [
            "0    10\n",
            "1    20\n",
            "2    30\n",
            "3    40\n",
            "4    50\n",
            "Name: Marks, dtype: int64\n",
            "    Name  Score    City  Age\n",
            "0   Amit     85   Delhi   22\n",
            "1   Riya     90  Mumbai   25\n",
            "2  Karan     78    Pune   24\n",
            "(3, 4)\n",
            "    Name  Score    City  Age\n",
            "0   Amit     85   Delhi   22\n",
            "1   Riya     90  Mumbai   25\n",
            "2  Karan     78    Pune   24\n",
            "           Score        Age\n",
            "count   3.000000   3.000000\n",
            "mean   84.333333  23.666667\n",
            "std     6.027714   1.527525\n",
            "min    78.000000  22.000000\n",
            "25%    81.500000  23.000000\n",
            "50%    85.000000  24.000000\n",
            "75%    87.500000  24.500000\n",
            "max    90.000000  25.000000\n"
          ]
        }
      ],
      "source": [
        "# Answer here\n",
        "series = pd.Series([10,20,30,40,50] , name='Marks')\n",
        "print(series)\n",
        "\n",
        "# 2\n",
        "data = {\n",
        "    'Name': ['Amit', 'Riya', 'Karan'],\n",
        "    'Score': [85, 90, 78],\n",
        "    'City': ['Delhi', 'Mumbai', 'Pune'],\n",
        "    'Age': [22, 25, 24]\n",
        "}\n",
        "\n",
        "students_df = pd.DataFrame(data)\n",
        "\n",
        "print(students_df)\n",
        "\n",
        "# Print shape\n",
        "print(students_df.shape)\n",
        "\n",
        "# Print first few rows\n",
        "print(students_df.head())\n",
        "\n",
        "# Print summary statistics\n",
        "print(students_df.describe())\n"
      ]
    },
    {
      "cell_type": "markdown",
      "id": "8f361dcd",
      "metadata": {
        "id": "8f361dcd"
      },
      "source": [
        "## 4. Indexing and Slicing in Pandas"
      ]
    },
    {
      "cell_type": "code",
      "execution_count": 22,
      "id": "92a3a837",
      "metadata": {
        "id": "92a3a837",
        "colab": {
          "base_uri": "https://localhost:8080/",
          "height": 112
        },
        "outputId": "ea8bf3bf-2cfb-4e61-d535-58c04fc20779"
      },
      "outputs": [
        {
          "output_type": "execute_result",
          "data": {
            "text/plain": [
              "   Name  Age\n",
              "1  Riya   24\n",
              "2  John   26"
            ],
            "text/html": [
              "\n",
              "  <div id=\"df-2b9bbb2d-8fb5-4323-9d01-50e784475e48\" class=\"colab-df-container\">\n",
              "    <div>\n",
              "<style scoped>\n",
              "    .dataframe tbody tr th:only-of-type {\n",
              "        vertical-align: middle;\n",
              "    }\n",
              "\n",
              "    .dataframe tbody tr th {\n",
              "        vertical-align: top;\n",
              "    }\n",
              "\n",
              "    .dataframe thead th {\n",
              "        text-align: right;\n",
              "    }\n",
              "</style>\n",
              "<table border=\"1\" class=\"dataframe\">\n",
              "  <thead>\n",
              "    <tr style=\"text-align: right;\">\n",
              "      <th></th>\n",
              "      <th>Name</th>\n",
              "      <th>Age</th>\n",
              "    </tr>\n",
              "  </thead>\n",
              "  <tbody>\n",
              "    <tr>\n",
              "      <th>1</th>\n",
              "      <td>Riya</td>\n",
              "      <td>24</td>\n",
              "    </tr>\n",
              "    <tr>\n",
              "      <th>2</th>\n",
              "      <td>John</td>\n",
              "      <td>26</td>\n",
              "    </tr>\n",
              "  </tbody>\n",
              "</table>\n",
              "</div>\n",
              "    <div class=\"colab-df-buttons\">\n",
              "\n",
              "  <div class=\"colab-df-container\">\n",
              "    <button class=\"colab-df-convert\" onclick=\"convertToInteractive('df-2b9bbb2d-8fb5-4323-9d01-50e784475e48')\"\n",
              "            title=\"Convert this dataframe to an interactive table.\"\n",
              "            style=\"display:none;\">\n",
              "\n",
              "  <svg xmlns=\"http://www.w3.org/2000/svg\" height=\"24px\" viewBox=\"0 -960 960 960\">\n",
              "    <path d=\"M120-120v-720h720v720H120Zm60-500h600v-160H180v160Zm220 220h160v-160H400v160Zm0 220h160v-160H400v160ZM180-400h160v-160H180v160Zm440 0h160v-160H620v160ZM180-180h160v-160H180v160Zm440 0h160v-160H620v160Z\"/>\n",
              "  </svg>\n",
              "    </button>\n",
              "\n",
              "  <style>\n",
              "    .colab-df-container {\n",
              "      display:flex;\n",
              "      gap: 12px;\n",
              "    }\n",
              "\n",
              "    .colab-df-convert {\n",
              "      background-color: #E8F0FE;\n",
              "      border: none;\n",
              "      border-radius: 50%;\n",
              "      cursor: pointer;\n",
              "      display: none;\n",
              "      fill: #1967D2;\n",
              "      height: 32px;\n",
              "      padding: 0 0 0 0;\n",
              "      width: 32px;\n",
              "    }\n",
              "\n",
              "    .colab-df-convert:hover {\n",
              "      background-color: #E2EBFA;\n",
              "      box-shadow: 0px 1px 2px rgba(60, 64, 67, 0.3), 0px 1px 3px 1px rgba(60, 64, 67, 0.15);\n",
              "      fill: #174EA6;\n",
              "    }\n",
              "\n",
              "    .colab-df-buttons div {\n",
              "      margin-bottom: 4px;\n",
              "    }\n",
              "\n",
              "    [theme=dark] .colab-df-convert {\n",
              "      background-color: #3B4455;\n",
              "      fill: #D2E3FC;\n",
              "    }\n",
              "\n",
              "    [theme=dark] .colab-df-convert:hover {\n",
              "      background-color: #434B5C;\n",
              "      box-shadow: 0px 1px 3px 1px rgba(0, 0, 0, 0.15);\n",
              "      filter: drop-shadow(0px 1px 2px rgba(0, 0, 0, 0.3));\n",
              "      fill: #FFFFFF;\n",
              "    }\n",
              "  </style>\n",
              "\n",
              "    <script>\n",
              "      const buttonEl =\n",
              "        document.querySelector('#df-2b9bbb2d-8fb5-4323-9d01-50e784475e48 button.colab-df-convert');\n",
              "      buttonEl.style.display =\n",
              "        google.colab.kernel.accessAllowed ? 'block' : 'none';\n",
              "\n",
              "      async function convertToInteractive(key) {\n",
              "        const element = document.querySelector('#df-2b9bbb2d-8fb5-4323-9d01-50e784475e48');\n",
              "        const dataTable =\n",
              "          await google.colab.kernel.invokeFunction('convertToInteractive',\n",
              "                                                    [key], {});\n",
              "        if (!dataTable) return;\n",
              "\n",
              "        const docLinkHtml = 'Like what you see? Visit the ' +\n",
              "          '<a target=\"_blank\" href=https://colab.research.google.com/notebooks/data_table.ipynb>data table notebook</a>'\n",
              "          + ' to learn more about interactive tables.';\n",
              "        element.innerHTML = '';\n",
              "        dataTable['output_type'] = 'display_data';\n",
              "        await google.colab.output.renderOutput(dataTable, element);\n",
              "        const docLink = document.createElement('div');\n",
              "        docLink.innerHTML = docLinkHtml;\n",
              "        element.appendChild(docLink);\n",
              "      }\n",
              "    </script>\n",
              "  </div>\n",
              "\n",
              "\n",
              "    <div id=\"df-7408b857-9129-415e-b99f-05391e36278f\">\n",
              "      <button class=\"colab-df-quickchart\" onclick=\"quickchart('df-7408b857-9129-415e-b99f-05391e36278f')\"\n",
              "                title=\"Suggest charts\"\n",
              "                style=\"display:none;\">\n",
              "\n",
              "<svg xmlns=\"http://www.w3.org/2000/svg\" height=\"24px\"viewBox=\"0 0 24 24\"\n",
              "     width=\"24px\">\n",
              "    <g>\n",
              "        <path d=\"M19 3H5c-1.1 0-2 .9-2 2v14c0 1.1.9 2 2 2h14c1.1 0 2-.9 2-2V5c0-1.1-.9-2-2-2zM9 17H7v-7h2v7zm4 0h-2V7h2v10zm4 0h-2v-4h2v4z\"/>\n",
              "    </g>\n",
              "</svg>\n",
              "      </button>\n",
              "\n",
              "<style>\n",
              "  .colab-df-quickchart {\n",
              "      --bg-color: #E8F0FE;\n",
              "      --fill-color: #1967D2;\n",
              "      --hover-bg-color: #E2EBFA;\n",
              "      --hover-fill-color: #174EA6;\n",
              "      --disabled-fill-color: #AAA;\n",
              "      --disabled-bg-color: #DDD;\n",
              "  }\n",
              "\n",
              "  [theme=dark] .colab-df-quickchart {\n",
              "      --bg-color: #3B4455;\n",
              "      --fill-color: #D2E3FC;\n",
              "      --hover-bg-color: #434B5C;\n",
              "      --hover-fill-color: #FFFFFF;\n",
              "      --disabled-bg-color: #3B4455;\n",
              "      --disabled-fill-color: #666;\n",
              "  }\n",
              "\n",
              "  .colab-df-quickchart {\n",
              "    background-color: var(--bg-color);\n",
              "    border: none;\n",
              "    border-radius: 50%;\n",
              "    cursor: pointer;\n",
              "    display: none;\n",
              "    fill: var(--fill-color);\n",
              "    height: 32px;\n",
              "    padding: 0;\n",
              "    width: 32px;\n",
              "  }\n",
              "\n",
              "  .colab-df-quickchart:hover {\n",
              "    background-color: var(--hover-bg-color);\n",
              "    box-shadow: 0 1px 2px rgba(60, 64, 67, 0.3), 0 1px 3px 1px rgba(60, 64, 67, 0.15);\n",
              "    fill: var(--button-hover-fill-color);\n",
              "  }\n",
              "\n",
              "  .colab-df-quickchart-complete:disabled,\n",
              "  .colab-df-quickchart-complete:disabled:hover {\n",
              "    background-color: var(--disabled-bg-color);\n",
              "    fill: var(--disabled-fill-color);\n",
              "    box-shadow: none;\n",
              "  }\n",
              "\n",
              "  .colab-df-spinner {\n",
              "    border: 2px solid var(--fill-color);\n",
              "    border-color: transparent;\n",
              "    border-bottom-color: var(--fill-color);\n",
              "    animation:\n",
              "      spin 1s steps(1) infinite;\n",
              "  }\n",
              "\n",
              "  @keyframes spin {\n",
              "    0% {\n",
              "      border-color: transparent;\n",
              "      border-bottom-color: var(--fill-color);\n",
              "      border-left-color: var(--fill-color);\n",
              "    }\n",
              "    20% {\n",
              "      border-color: transparent;\n",
              "      border-left-color: var(--fill-color);\n",
              "      border-top-color: var(--fill-color);\n",
              "    }\n",
              "    30% {\n",
              "      border-color: transparent;\n",
              "      border-left-color: var(--fill-color);\n",
              "      border-top-color: var(--fill-color);\n",
              "      border-right-color: var(--fill-color);\n",
              "    }\n",
              "    40% {\n",
              "      border-color: transparent;\n",
              "      border-right-color: var(--fill-color);\n",
              "      border-top-color: var(--fill-color);\n",
              "    }\n",
              "    60% {\n",
              "      border-color: transparent;\n",
              "      border-right-color: var(--fill-color);\n",
              "    }\n",
              "    80% {\n",
              "      border-color: transparent;\n",
              "      border-right-color: var(--fill-color);\n",
              "      border-bottom-color: var(--fill-color);\n",
              "    }\n",
              "    90% {\n",
              "      border-color: transparent;\n",
              "      border-bottom-color: var(--fill-color);\n",
              "    }\n",
              "  }\n",
              "</style>\n",
              "\n",
              "      <script>\n",
              "        async function quickchart(key) {\n",
              "          const quickchartButtonEl =\n",
              "            document.querySelector('#' + key + ' button');\n",
              "          quickchartButtonEl.disabled = true;  // To prevent multiple clicks.\n",
              "          quickchartButtonEl.classList.add('colab-df-spinner');\n",
              "          try {\n",
              "            const charts = await google.colab.kernel.invokeFunction(\n",
              "                'suggestCharts', [key], {});\n",
              "          } catch (error) {\n",
              "            console.error('Error during call to suggestCharts:', error);\n",
              "          }\n",
              "          quickchartButtonEl.classList.remove('colab-df-spinner');\n",
              "          quickchartButtonEl.classList.add('colab-df-quickchart-complete');\n",
              "        }\n",
              "        (() => {\n",
              "          let quickchartButtonEl =\n",
              "            document.querySelector('#df-7408b857-9129-415e-b99f-05391e36278f button');\n",
              "          quickchartButtonEl.style.display =\n",
              "            google.colab.kernel.accessAllowed ? 'block' : 'none';\n",
              "        })();\n",
              "      </script>\n",
              "    </div>\n",
              "\n",
              "    </div>\n",
              "  </div>\n"
            ],
            "application/vnd.google.colaboratory.intrinsic+json": {
              "type": "dataframe",
              "summary": "{\n  \"name\": \"df\",\n  \"rows\": 2,\n  \"fields\": [\n    {\n      \"column\": \"Name\",\n      \"properties\": {\n        \"dtype\": \"string\",\n        \"num_unique_values\": 2,\n        \"samples\": [\n          \"John\",\n          \"Riya\"\n        ],\n        \"semantic_type\": \"\",\n        \"description\": \"\"\n      }\n    },\n    {\n      \"column\": \"Age\",\n      \"properties\": {\n        \"dtype\": \"number\",\n        \"std\": 1,\n        \"min\": 24,\n        \"max\": 26,\n        \"num_unique_values\": 2,\n        \"samples\": [\n          26,\n          24\n        ],\n        \"semantic_type\": \"\",\n        \"description\": \"\"\n      }\n    }\n  ]\n}"
            }
          },
          "metadata": {},
          "execution_count": 22
        }
      ],
      "source": [
        "# Example: Indexing and Slicing\n",
        "df['Name']\n",
        "df[['Name', 'Age']]\n",
        "df.iloc[0:2]\n",
        "df.loc[df['Age'] > 22]"
      ]
    },
    {
      "cell_type": "markdown",
      "id": "becaca7d",
      "metadata": {
        "id": "becaca7d"
      },
      "source": [
        "### Practice Questions\n",
        "1. Select only the 'Score' column from your DataFrame.\n",
        "2. Retrieve rows from index 1 to 3.\n",
        "3. Filter rows where 'Age' > 23."
      ]
    },
    {
      "cell_type": "code",
      "execution_count": 28,
      "id": "71a08a4c",
      "metadata": {
        "id": "71a08a4c",
        "colab": {
          "base_uri": "https://localhost:8080/"
        },
        "outputId": "9e8da511-e9c6-4974-e4f5-282e477ec17e"
      },
      "outputs": [
        {
          "output_type": "stream",
          "name": "stdout",
          "text": [
            "0    85\n",
            "1    90\n",
            "2    78\n",
            "Name: Score, dtype: int64\n",
            "Rows from index 1 to 3:\n",
            "    Name  Score    City  Age\n",
            "1   Riya     90  Mumbai   25\n",
            "2  Karan     78    Pune   24\n",
            "Rows where Age > 23:\n",
            "    Name  Score    City  Age\n",
            "1   Riya     90  Mumbai   25\n",
            "2  Karan     78    Pune   24\n"
          ]
        }
      ],
      "source": [
        "# Answer here\n",
        "score_column = students_df['Score']\n",
        "print(score_column)\n",
        "\n",
        "# Retrieve rows from index 1 to 3 (using iloc)\n",
        "selected_rows = students_df.iloc[1:4]\n",
        "print(\"Rows from index 1 to 3:\")\n",
        "print(selected_rows)\n",
        "\n",
        "# Filter rows where Age > 23\n",
        "filtered_df = students_df[students_df['Age'] > 23]\n",
        "print(\"Rows where Age > 23:\")\n",
        "print(filtered_df)"
      ]
    },
    {
      "cell_type": "markdown",
      "id": "ed78de56",
      "metadata": {
        "id": "ed78de56"
      },
      "source": [
        "## 5. Merging and Concatenation"
      ]
    },
    {
      "cell_type": "code",
      "execution_count": 29,
      "id": "7b819932",
      "metadata": {
        "id": "7b819932",
        "colab": {
          "base_uri": "https://localhost:8080/"
        },
        "outputId": "927f12b8-e5a8-413c-c3da-42ce399634c5"
      },
      "outputs": [
        {
          "output_type": "stream",
          "name": "stdout",
          "text": [
            "   ID Name  Score\n",
            "0   1    A     85\n",
            "1   2    B     90\n"
          ]
        }
      ],
      "source": [
        "# Example: Merge and Concat\n",
        "df1 = pd.DataFrame({'ID': [1,2], 'Name': ['A', 'B']})\n",
        "df2 = pd.DataFrame({'ID': [1,2], 'Score': [85, 90]})\n",
        "merged = pd.merge(df1, df2, on='ID')\n",
        "print(merged)\n",
        "\n",
        "# Concat\n",
        "df3 = pd.concat([df1, df2], axis=0, ignore_index=True)"
      ]
    },
    {
      "cell_type": "markdown",
      "id": "42c8ef2d",
      "metadata": {
        "id": "42c8ef2d"
      },
      "source": [
        "### Practice Questions\n",
        "1. Merge two DataFrames 'students' and 'marks' on 'ID'.\n",
        "2. Perform left join between two given DataFrames.\n",
        "3. Concatenate two DataFrames vertically and reset the index."
      ]
    },
    {
      "cell_type": "code",
      "execution_count": 34,
      "id": "2f6726a4",
      "metadata": {
        "id": "2f6726a4",
        "colab": {
          "base_uri": "https://localhost:8080/"
        },
        "outputId": "ca20e5d9-2a04-43e2-9ecf-b66ad967cd01"
      },
      "outputs": [
        {
          "output_type": "stream",
          "name": "stdout",
          "text": [
            "Merged DataFrame:\n",
            "   ID   Name     City  Score\n",
            "0   1   Amit    Delhi     85\n",
            "1   2   Riya   Mumbai     90\n",
            "2   3  Karan     Pune     78\n",
            "3   4   Neha  Kolkata     88\n",
            "Result of Left Join:\n",
            "   ID   Name     City  Score\n",
            "0   1   Amit    Delhi     85\n",
            "1   2   Riya   Mumbai     90\n",
            "2   3  Karan     Pune     78\n",
            "3   4   Neha  Kolkata     88\n",
            "Concatenated DataFrame:\n",
            "   ID Name  Score\n",
            "0   1    A    NaN\n",
            "1   2    B    NaN\n",
            "2   1  NaN   85.0\n",
            "3   2  NaN   90.0\n"
          ]
        }
      ],
      "source": [
        "# Answer here\n",
        "import pandas as pd\n",
        "students = pd.DataFrame({\n",
        "    'ID': [1, 2, 3, 4],\n",
        "    'Name': ['Amit', 'Riya', 'Karan', 'Neha'],\n",
        "    'City': ['Delhi', 'Mumbai', 'Pune', 'Kolkata']\n",
        "})\n",
        "\n",
        "marks = pd.DataFrame({\n",
        "    'ID': [1, 2, 3, 4],\n",
        "    'Score': [85, 90, 78, 88]\n",
        "})\n",
        "\n",
        "# Merge the two DataFrames on 'ID'\n",
        "merged_df = pd.merge(students, marks, on='ID')\n",
        "\n",
        "print(\"Merged DataFrame:\")\n",
        "print(merged_df)\n",
        "\n",
        "\n",
        "# Perform left join on 'ID'\n",
        "left_join_df = pd.merge(students, marks, on='ID', how='left')\n",
        "\n",
        "print(\"Result of Left Join:\")\n",
        "print(left_join_df)\n",
        "\n",
        "# Concatenate vertically and reset index\n",
        "combined_df = pd.concat([df1, df2], axis=0).reset_index(drop=True)\n",
        "\n",
        "print(\"Concatenated DataFrame:\")\n",
        "print(combined_df)"
      ]
    },
    {
      "cell_type": "markdown",
      "id": "727cdac8",
      "metadata": {
        "id": "727cdac8"
      },
      "source": [
        "## 6. Pivot Tables and GroupBy"
      ]
    },
    {
      "cell_type": "code",
      "execution_count": 35,
      "id": "4397e068",
      "metadata": {
        "id": "4397e068",
        "colab": {
          "base_uri": "https://localhost:8080/"
        },
        "outputId": "aab4933d-e02a-411f-fd10-79ab958cab56"
      },
      "outputs": [
        {
          "output_type": "stream",
          "name": "stdout",
          "text": [
            "Month   Feb  Jan\n",
            "Region          \n",
            "North   400  250\n",
            "South     0  300\n",
            "Region\n",
            "North    650\n",
            "South    300\n",
            "Name: Sales, dtype: int64\n"
          ]
        }
      ],
      "source": [
        "# Example: Pivot and GroupBy\n",
        "df = pd.DataFrame({'Region': ['North', 'South', 'North'], 'Month': ['Jan', 'Jan', 'Feb'], 'Sales': [250, 300, 400]})\n",
        "\n",
        "pivot = df.pivot_table(values='Sales', index='Region', columns='Month', aggfunc='sum', fill_value=0)\n",
        "grouped = df.groupby('Region')['Sales'].sum()\n",
        "print(pivot)\n",
        "print(grouped)"
      ]
    },
    {
      "cell_type": "markdown",
      "id": "30b1a564",
      "metadata": {
        "id": "30b1a564"
      },
      "source": [
        "### Practice Questions\n",
        "1. Group the DataFrame by 'Month' and find total sales.\n",
        "2. Create a pivot table to show Region-wise total sales.\n",
        "3. Group data by 'Region' and count number of entries."
      ]
    },
    {
      "cell_type": "code",
      "execution_count": 38,
      "id": "c1aff9c7",
      "metadata": {
        "id": "c1aff9c7",
        "colab": {
          "base_uri": "https://localhost:8080/"
        },
        "outputId": "0a8c04d0-8c31-41a3-eeef-0b929c8964d9"
      },
      "outputs": [
        {
          "output_type": "stream",
          "name": "stdout",
          "text": [
            "Total Sales by Month:\n",
            "Month\n",
            "Feb    400\n",
            "Jan    550\n",
            "Name: Sales, dtype: int64\n",
            "Region-wise Total Sales (Pivot Table):\n",
            "        Sales\n",
            "Region       \n",
            "North     650\n",
            "South     300\n",
            "Number of Entries per Region:\n",
            "Region\n",
            "North    2\n",
            "South    1\n",
            "dtype: int64\n"
          ]
        }
      ],
      "source": [
        "df = pd.DataFrame({\n",
        "    'Region': ['North', 'South', 'North'],\n",
        "    'Month': ['Jan', 'Jan', 'Feb'],\n",
        "    'Sales': [250, 300, 400]\n",
        "})\n",
        "\n",
        "# Group by 'Month' and calculate total sales\n",
        "monthly_sales = df.groupby('Month')['Sales'].sum()\n",
        "\n",
        "print(\"Total Sales by Month:\")\n",
        "print(monthly_sales)\n",
        "\n",
        "\n",
        "# Create pivot table for Region-wise total sales\n",
        "pivot = df.pivot_table(values='Sales', index='Region', aggfunc='sum')\n",
        "print(\"Region-wise Total Sales (Pivot Table):\")\n",
        "print(pivot)\n",
        "\n",
        "# Group by 'Region' and count number of entries\n",
        "region_counts = df.groupby('Region').size()\n",
        "\n",
        "print(\"Number of Entries per Region:\")\n",
        "print(region_counts)"
      ]
    },
    {
      "cell_type": "markdown",
      "id": "9fe2add6",
      "metadata": {
        "id": "9fe2add6"
      },
      "source": [
        "## Optional Practice (Medium Level)\n",
        "These questions test your overall understanding of Pandas."
      ]
    },
    {
      "cell_type": "markdown",
      "id": "b68b2455",
      "metadata": {
        "id": "b68b2455"
      },
      "source": [
        "1. Import a dataset and clean all missing values, rename columns properly, and export it back to Excel.\n",
        "\n",
        "Dataset- https://drive.google.com/file/d/1kw_Sdib3WCo_acQYA851poCUdKcWgfYs/view?usp=sharing"
      ]
    },
    {
      "cell_type": "code",
      "execution_count": 39,
      "id": "54ffdb1e",
      "metadata": {
        "id": "54ffdb1e",
        "colab": {
          "base_uri": "https://localhost:8080/"
        },
        "outputId": "7eb39359-591f-41d3-94a3-afbfc74e8f5f"
      },
      "outputs": [
        {
          "output_type": "stream",
          "name": "stdout",
          "text": [
            "Original DataFrame:\n",
            "     Name   Age(Years)    City  Sales( Rs)\n",
            "0     Amit        25.0   Delhi      2500.0\n",
            "1   Priya          NaN  Mumbai      3000.0\n",
            "2      NaN        30.0   Delhi         NaN\n",
            "3    Rohan        22.0     NaN      2000.0\n",
            "4     Neha        28.0    Pune      4000.0\n"
          ]
        },
        {
          "output_type": "stream",
          "name": "stderr",
          "text": [
            "/tmp/ipython-input-3547513027.py:9: SettingWithCopyWarning: \n",
            "A value is trying to be set on a copy of a slice from a DataFrame\n",
            "\n",
            "See the caveats in the documentation: https://pandas.pydata.org/pandas-docs/stable/user_guide/indexing.html#returning-a-view-versus-a-copy\n",
            "  df_cleaned.rename(columns={\n"
          ]
        }
      ],
      "source": [
        "df = pd.read_csv(\"messy_data.csv\")\n",
        "print(\"Original DataFrame:\")\n",
        "print(df.head())\n",
        "\n",
        "# 2. Clean missing values (remove rows with any NaN values)\n",
        "df_cleaned = df.dropna()\n",
        "\n",
        "# 3. Rename columns properly\n",
        "df_cleaned.rename(columns={\n",
        "    'Name ': 'Name',\n",
        "    ' Age': 'Age',\n",
        "    'City_': 'City'\n",
        "}, inplace=True)\n",
        "\n",
        "# 4. Export cleaned data back to Excel\n",
        "df_cleaned.to_excel(\"cleaned_data.xlsx\", index=False, sheet_name='CleanData')\n",
        "\n",
        "\n"
      ]
    },
    {
      "cell_type": "markdown",
      "id": "64cef174",
      "metadata": {
        "id": "64cef174"
      },
      "source": [
        "2. Combine multiple CSV files from a folder into one DataFrame and find top 5 entries by a numeric column like 'Sales'.\n",
        "\n",
        "Dataset- https://drive.google.com/drive/folders/1zgJs_6r8Aa_-93YXmYXfxOK5L4hVUI9Q?usp=sharing"
      ]
    },
    {
      "cell_type": "code",
      "execution_count": 43,
      "id": "134e1bba",
      "metadata": {
        "id": "134e1bba",
        "colab": {
          "base_uri": "https://localhost:8080/"
        },
        "outputId": "2388325c-3ff0-45e0-f74a-465c721030af"
      },
      "outputs": [
        {
          "output_type": "stream",
          "name": "stdout",
          "text": [
            "Combined DataFrame:\n",
            "   ID Product  Sales Month\n",
            "0   1       A   1200   Jan\n",
            "1   2       B   1500   Jan\n",
            "2   3       C   1100   Jan\n",
            "3   4       D    900   Jan\n",
            "4   5       E   1700   Jan\n",
            "\n",
            "Top 5 Entries by Sales:\n",
            "    ID Product  Sales Month\n",
            "9   10       E   1750   Feb\n",
            "4    5       E   1700   Jan\n",
            "14  15       E   1650   Mar\n",
            "6    7       B   1600   Feb\n",
            "1    2       B   1500   Jan\n"
          ]
        }
      ],
      "source": [
        "import pandas as pd\n",
        "\n",
        "# 1. Read each CSV file manually\n",
        "jan = pd.read_csv(\"/content/sales_jan.csv\")\n",
        "feb = pd.read_csv(\"/content/sales_feb.csv\")\n",
        "mar = pd.read_csv(\"/content/sales_mar.csv\")\n",
        "\n",
        "# 2. Combine all DataFrames vertically\n",
        "combined_df = pd.concat([jan, feb, mar], ignore_index=True)\n",
        "\n",
        "# 3. Display combined DataFrame\n",
        "print(\"Combined DataFrame:\")\n",
        "print(combined_df.head())\n",
        "\n",
        "# 4. Find top 5 entries by 'Sales'\n",
        "top5_sales = combined_df.sort_values(by='Sales', ascending=False).head(5)\n",
        "\n",
        "print(\"\\nTop 5 Entries by Sales:\")\n",
        "print(top5_sales)\n",
        "\n"
      ]
    }
  ],
  "metadata": {
    "language_info": {
      "name": "python"
    },
    "colab": {
      "provenance": [],
      "include_colab_link": true
    },
    "kernelspec": {
      "name": "python3",
      "display_name": "Python 3"
    }
  },
  "nbformat": 4,
  "nbformat_minor": 5
}
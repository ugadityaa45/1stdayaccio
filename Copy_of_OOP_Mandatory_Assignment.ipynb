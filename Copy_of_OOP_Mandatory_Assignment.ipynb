{
  "cells": [
    {
      "cell_type": "markdown",
      "metadata": {
        "id": "view-in-github",
        "colab_type": "text"
      },
      "source": [
        "<a href=\"https://colab.research.google.com/github/ugadityaa45/1stdayaccio/blob/main/Copy_of_OOP_Mandatory_Assignment.ipynb\" target=\"_parent\"><img src=\"https://colab.research.google.com/assets/colab-badge.svg\" alt=\"Open In Colab\"/></a>"
      ]
    },
    {
      "cell_type": "markdown",
      "id": "e9977157",
      "metadata": {
        "id": "e9977157"
      },
      "source": [
        "# Object-Oriented Programming (OOP) - Practice Assignment\n",
        "\n",
        "This assignment will help you understand the basics of Object-Oriented Programming (OOP) in Python.  \n",
        "Each question is written in a simple way so that you know exactly what to do.\n",
        "\n",
        "**Structure:**\n",
        "- 6 Easy Questions  \n",
        "- 2 Medium Questions  \n",
        "- 2 Hard Questions\n",
        "\n",
        "Follow each question carefully and try to run the examples step by step.\n"
      ]
    },
    {
      "cell_type": "markdown",
      "id": "522a3c58",
      "metadata": {
        "id": "522a3c58"
      },
      "source": [
        "### Question 1 (Easy)\n",
        "**Create a Class and Object**\n",
        "\n",
        "Create a class named `Student` with one attribute `name`.  \n",
        "Then create an object of this class and print the student's name.\n",
        "\n",
        "*Hint:* Use the `__init__` method to initialize the name attribute."
      ]
    },
    {
      "cell_type": "code",
      "source": [
        "class Student:\n",
        "  def __init__(self,name):\n",
        "    self.name=name\n",
        "obj=Student(\"Ram\")\n",
        "print(obj.name)"
      ],
      "metadata": {
        "id": "eoxW1xeIzyDT",
        "colab": {
          "base_uri": "https://localhost:8080/"
        },
        "outputId": "209106b6-a329-422f-c7f7-bcedf3519c34"
      },
      "id": "eoxW1xeIzyDT",
      "execution_count": 1,
      "outputs": [
        {
          "output_type": "stream",
          "name": "stdout",
          "text": [
            "Ram\n"
          ]
        }
      ]
    },
    {
      "cell_type": "markdown",
      "id": "62eb0fc1",
      "metadata": {
        "id": "62eb0fc1"
      },
      "source": [
        "### Question 2 (Easy)\n",
        "**Add Multiple Attributes**\n",
        "\n",
        "Create a class `Car` that has two attributes: `brand` and `year`.  \n",
        "Create two objects of this class for two different cars and print their details using `print()`."
      ]
    },
    {
      "cell_type": "code",
      "source": [
        "class Car:\n",
        "  def __init__(self,brand,year):\n",
        "    self.brand=brand\n",
        "    self.year=year\n",
        "obj1=Car(\"Toyota\",2019)\n",
        "obj2=Car(\"Honda\",2020)\n",
        "print(obj1.brand,obj1.year)\n",
        "print(obj2.brand,obj2.year)"
      ],
      "metadata": {
        "id": "aDLB9Ourz1fb",
        "colab": {
          "base_uri": "https://localhost:8080/"
        },
        "outputId": "9c372834-ae6d-464a-fa50-17ef566f2044"
      },
      "id": "aDLB9Ourz1fb",
      "execution_count": 2,
      "outputs": [
        {
          "output_type": "stream",
          "name": "stdout",
          "text": [
            "Toyota 2019\n",
            "Honda 2020\n"
          ]
        }
      ]
    },
    {
      "cell_type": "markdown",
      "id": "009120a2",
      "metadata": {
        "id": "009120a2"
      },
      "source": [
        "### Question 3 (Easy)\n",
        "**Methods in a Class**\n",
        "\n",
        "Create a class `Circle` with one attribute `radius`.  \n",
        "Add a method `area()` that returns the area of the circle.\n",
        "\n",
        "*Formula:* Area = π × radius²"
      ]
    },
    {
      "cell_type": "code",
      "source": [
        "import math\n",
        "class Circle:\n",
        "  def __init__(self,radius):\n",
        "    self.radius=radius\n",
        "  def area(self):\n",
        "    return math.pi*(self.radius**2)\n",
        "obj=Circle(5)\n",
        "print(obj.area())"
      ],
      "metadata": {
        "colab": {
          "base_uri": "https://localhost:8080/"
        },
        "id": "uqxyw_Jo4fqk",
        "outputId": "f867916b-55b8-42f2-d086-15bb95418e09"
      },
      "id": "uqxyw_Jo4fqk",
      "execution_count": 5,
      "outputs": [
        {
          "output_type": "stream",
          "name": "stdout",
          "text": [
            "78.53981633974483\n"
          ]
        }
      ]
    },
    {
      "cell_type": "markdown",
      "id": "0b760f6d",
      "metadata": {
        "id": "0b760f6d"
      },
      "source": [
        "### Question 4 (Easy)\n",
        "**Default and Parameterized Constructor**\n",
        "\n",
        "Create a class `Book` that takes the book title and author name as parameters when creating an object.  \n",
        "Also, create one object without any arguments and set default values like `'Unknown Title'` and `'Unknown Author'`."
      ]
    },
    {
      "cell_type": "code",
      "source": [
        "class Book:\n",
        "  def __init__(self,title=\"Unknown Title\",author=\"Unknown Author\"):\n",
        "    self.title=title\n",
        "    self.author=author\n",
        "obj1=Book(\"Harry\",\"xyz\")\n",
        "obj2=Book()\n",
        "print(obj1.title,obj1.author)\n",
        "print(obj2.title,obj2.author)"
      ],
      "metadata": {
        "id": "pbYx_DZDz2xR",
        "colab": {
          "base_uri": "https://localhost:8080/"
        },
        "outputId": "144ce73f-b195-43c7-cf70-ca6c6cb42dee"
      },
      "id": "pbYx_DZDz2xR",
      "execution_count": 6,
      "outputs": [
        {
          "output_type": "stream",
          "name": "stdout",
          "text": [
            "Harry xyz\n",
            "Unknown Title Unknown Author\n"
          ]
        }
      ]
    },
    {
      "cell_type": "markdown",
      "id": "67ac94fd",
      "metadata": {
        "id": "67ac94fd"
      },
      "source": [
        "### Question 5 (Easy)\n",
        "**Use of Self Keyword**\n",
        "\n",
        "Create a class `Employee` that has a method `display()` which prints `'This is an Employee class'`.  \n",
        "Then create one object and call the method using that object."
      ]
    },
    {
      "cell_type": "code",
      "source": [
        "class Employee:\n",
        "  def display(self):\n",
        "    print(\"This is an Employee class\")\n",
        "obj=Employee()\n",
        "obj.display()"
      ],
      "metadata": {
        "id": "8JXQn5LCz3Qp",
        "colab": {
          "base_uri": "https://localhost:8080/"
        },
        "outputId": "4dd72054-e984-41bc-95f0-ad895decaedd"
      },
      "id": "8JXQn5LCz3Qp",
      "execution_count": 7,
      "outputs": [
        {
          "output_type": "stream",
          "name": "stdout",
          "text": [
            "This is an Employee class\n"
          ]
        }
      ]
    },
    {
      "cell_type": "markdown",
      "id": "dce22c96",
      "metadata": {
        "id": "dce22c96"
      },
      "source": [
        "### Question 6 (Easy)\n",
        "**Simple Calculator Class**\n",
        "\n",
        "Create a class `Calculator` with methods for addition, subtraction, multiplication, and division.  \n",
        "Each method should take two numbers as parameters and return the result."
      ]
    },
    {
      "cell_type": "code",
      "source": [
        "class Calculator:\n",
        "    def add(self, a, b):\n",
        "        return a + b\n",
        "\n",
        "    def subtract(self, a, b):\n",
        "        return a - b\n",
        "\n",
        "    def multiply(self, a, b):\n",
        "        return a * b\n",
        "\n",
        "    def divide(self, a, b):\n",
        "        if b == 0:\n",
        "            return \"Cannot divide by zero\"\n",
        "        return a / b\n",
        "\n",
        "calc = Calculator()\n",
        "\n",
        "print(\"Addition:\", calc.add(10, 5))\n",
        "print(\"Subtraction:\", calc.subtract(10, 5))\n",
        "print(\"Multiplication:\", calc.multiply(10, 5))\n",
        "print(\"Division:\", calc.divide(10, 5))\n"
      ],
      "metadata": {
        "id": "WeDQIvebz3uF",
        "colab": {
          "base_uri": "https://localhost:8080/"
        },
        "outputId": "b971ed00-f663-4325-8d7f-e57d0b60ad2c"
      },
      "id": "WeDQIvebz3uF",
      "execution_count": 8,
      "outputs": [
        {
          "output_type": "stream",
          "name": "stdout",
          "text": [
            "Addition: 15\n",
            "Subtraction: 5\n",
            "Multiplication: 50\n",
            "Division: 2.0\n"
          ]
        }
      ]
    },
    {
      "cell_type": "markdown",
      "id": "d5f60974",
      "metadata": {
        "id": "d5f60974"
      },
      "source": [
        "### Question 7 (Medium)\n",
        "**Working with Multiple Objects**\n",
        "\n",
        "Create a class `Student` with attributes `name`, `marks1`, `marks2`, and `marks3`.  \n",
        "Add a method `average()` that returns the average marks of the student.  \n",
        "Create objects for three students and print their average marks."
      ]
    },
    {
      "cell_type": "code",
      "source": [
        "class Student:\n",
        "    def __init__(self, name, marks1, marks2, marks3):\n",
        "        self.name = name\n",
        "        self.marks1 = marks1\n",
        "        self.marks2 = marks2\n",
        "        self.marks3 = marks3\n",
        "\n",
        "    def average(self):\n",
        "        return (self.marks1 + self.marks2 + self.marks3) / 3\n",
        "\n",
        "student1 = Student(\"Aditya\", 85, 90, 88)\n",
        "student2 = Student(\"Riya\", 78, 82, 80)\n",
        "student3 = Student(\"Rahul\", 92, 88, 95)\n",
        "\n",
        "print(student1.name, \"Average Marks:\", student1.average())\n",
        "print(student2.name, \"Average Marks:\", student2.average())\n",
        "print(student3.name, \"Average Marks:\", student3.average())\n"
      ],
      "metadata": {
        "id": "un7JLb6dz4MD",
        "colab": {
          "base_uri": "https://localhost:8080/"
        },
        "outputId": "d404d4ff-df38-4d1a-cc09-de4221860f9f"
      },
      "id": "un7JLb6dz4MD",
      "execution_count": 9,
      "outputs": [
        {
          "output_type": "stream",
          "name": "stdout",
          "text": [
            "Aditya Average Marks: 87.66666666666667\n",
            "Riya Average Marks: 80.0\n",
            "Rahul Average Marks: 91.66666666666667\n"
          ]
        }
      ]
    },
    {
      "cell_type": "markdown",
      "id": "6047ad11",
      "metadata": {
        "id": "6047ad11"
      },
      "source": [
        "### Question 8 (Medium)\n",
        "**Inheritance Concept**\n",
        "\n",
        "Create a base class `Person` with an attribute `name` and a method `show_name()`.  \n",
        "Then create a derived class `Teacher` that adds a new attribute `subject` and a method `show_subject()`.  \n",
        "Create an object of `Teacher` and call both methods."
      ]
    },
    {
      "cell_type": "code",
      "source": [
        "class Person:\n",
        "    def __init__(self, name):\n",
        "        self.name = name\n",
        "\n",
        "    def show_name(self):\n",
        "        print(\"Name:\", self.name)\n",
        "\n",
        "\n",
        "class Teacher(Person):\n",
        "    def __init__(self, name, subject):\n",
        "        super().__init__(name)\n",
        "        self.subject = subject\n",
        "\n",
        "    def show_subject(self):\n",
        "        print(\"Subject:\", self.subject)\n",
        "\n",
        "teacher1 = Teacher(\"Aditya\", \"Mathematics\")\n",
        "\n",
        "teacher1.show_name()\n",
        "teacher1.show_subject()\n"
      ],
      "metadata": {
        "id": "3RF85lsjz4sT",
        "colab": {
          "base_uri": "https://localhost:8080/"
        },
        "outputId": "5e7c4362-71cd-4767-c5f9-340383c31153"
      },
      "id": "3RF85lsjz4sT",
      "execution_count": 10,
      "outputs": [
        {
          "output_type": "stream",
          "name": "stdout",
          "text": [
            "Name: Aditya\n",
            "Subject: Mathematics\n"
          ]
        }
      ]
    },
    {
      "cell_type": "markdown",
      "id": "062ac860",
      "metadata": {
        "id": "062ac860"
      },
      "source": [
        "### Question 9 (Hard)\n",
        "**Encapsulation Example**\n",
        "\n",
        "Create a class `BankAccount` with attributes `__balance` (private) and `account_holder`.  \n",
        "Add methods `deposit(amount)` and `withdraw(amount)` to update the balance safely.  \n",
        "Print the final balance only through a method `show_balance()`."
      ]
    },
    {
      "cell_type": "code",
      "source": [
        "class BankAccount:\n",
        "    def __init__(self, account_holder, balance=0):\n",
        "        self.account_holder = account_holder\n",
        "        self.__balance = balance\n",
        "\n",
        "    def deposit(self, amount):\n",
        "        if amount > 0:\n",
        "            self.__balance += amount\n",
        "            print(f\"Deposited: {amount}\")\n",
        "        else:\n",
        "            print(\"Deposit amount must be positive\")\n",
        "\n",
        "    def withdraw(self, amount):\n",
        "        if 0 < amount <= self.__balance:\n",
        "            self.__balance -= amount\n",
        "            print(f\"Withdrew: {amount}\")\n",
        "        else:\n",
        "            print(\"Invalid withdrawal amount or insufficient funds\")\n",
        "\n",
        "    def show_balance(self):\n",
        "        print(f\"Account Holder: {self.account_holder}\")\n",
        "        print(f\"Current Balance: {self.__balance}\")\n",
        "\n",
        "\n",
        "account1 = BankAccount(\"Aditya\", 1000)\n",
        "\n",
        "account1.deposit(500)\n",
        "account1.withdraw(300)\n",
        "account1.show_balance()\n"
      ],
      "metadata": {
        "id": "F6gWsUOFz5XN",
        "colab": {
          "base_uri": "https://localhost:8080/"
        },
        "outputId": "79718a4a-fef6-480e-f61d-d68a437b2f15"
      },
      "id": "F6gWsUOFz5XN",
      "execution_count": 11,
      "outputs": [
        {
          "output_type": "stream",
          "name": "stdout",
          "text": [
            "Deposited: 500\n",
            "Withdrew: 300\n",
            "Account Holder: Aditya\n",
            "Current Balance: 1200\n"
          ]
        }
      ]
    },
    {
      "cell_type": "markdown",
      "id": "f10a7d88",
      "metadata": {
        "id": "f10a7d88"
      },
      "source": [
        "### Question 10 (Hard)\n",
        "**Polymorphism Example**\n",
        "\n",
        "Create two classes: `Dog` and `Cat`.  \n",
        "Both should have a method named `speak()` that prints the sound of the animal.  \n",
        "Write a function `animal_sound(animal)` that calls the `speak()` method of any animal passed to it.\n",
        "\n",
        "*Hint:* This shows how the same method name can have different behaviors depending on the object type."
      ]
    },
    {
      "cell_type": "code",
      "source": [
        "class Dog:\n",
        "    def speak(self):\n",
        "        print(\"Woof! Woof!\")\n",
        "\n",
        "class Cat:\n",
        "    def speak(self):\n",
        "        print(\"Meow! Meow!\")\n",
        "\n",
        "def animal_sound(animal):\n",
        "    animal.speak()\n",
        "\n",
        "dog1 = Dog()\n",
        "cat1 = Cat()\n",
        "\n",
        "animal_sound(dog1)\n",
        "animal_sound(cat1)\n",
        "\n"
      ],
      "metadata": {
        "id": "tvczT-hEz6Kd",
        "colab": {
          "base_uri": "https://localhost:8080/"
        },
        "outputId": "689a2f87-9c34-4db5-cd9d-b1e78b81e337"
      },
      "id": "tvczT-hEz6Kd",
      "execution_count": 14,
      "outputs": [
        {
          "output_type": "stream",
          "name": "stdout",
          "text": [
            "Woof! Woof!\n",
            "Meow! Meow!\n"
          ]
        }
      ]
    }
  ],
  "metadata": {
    "colab": {
      "provenance": [],
      "include_colab_link": true
    },
    "language_info": {
      "name": "python"
    },
    "kernelspec": {
      "name": "python3",
      "display_name": "Python 3"
    }
  },
  "nbformat": 4,
  "nbformat_minor": 5
}
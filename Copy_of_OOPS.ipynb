{
  "cells": [
    {
      "cell_type": "markdown",
      "metadata": {
        "id": "view-in-github",
        "colab_type": "text"
      },
      "source": [
        "<a href=\"https://colab.research.google.com/github/ugadityaa45/1stdayaccio/blob/main/Copy_of_OOPS.ipynb\" target=\"_parent\"><img src=\"https://colab.research.google.com/assets/colab-badge.svg\" alt=\"Open In Colab\"/></a>"
      ]
    },
    {
      "cell_type": "markdown",
      "metadata": {
        "id": "3eW2BGeCnoFF"
      },
      "source": [
        "#  OOPS in Python Assignment\n",
        "\n",
        "Kindly Submit this assignment using this Google form link- https://forms.gle/4oedWNwR38Z8j1LeA\n",
        "\n",
        "\n"
      ]
    },
    {
      "cell_type": "markdown",
      "metadata": {
        "id": "-YeIqDCxnoFH"
      },
      "source": [
        "## Q1. Create a Simple Class\n",
        "\n",
        "Create a class named `Student` that stores the following information:\n",
        "- name\n",
        "- roll number\n",
        "\n",
        "Then, create one object of that class and print both attributes.\n",
        "\n",
        "**Hint:** Use `__init__` to initialize the attributes."
      ]
    },
    {
      "cell_type": "code",
      "metadata": {
        "id": "O2lkAu64noFH",
        "outputId": "4bfa7955-2bb1-49ee-a9a7-f5dfef120899",
        "colab": {
          "base_uri": "https://localhost:8080/"
        }
      },
      "source": [
        "class Student:\n",
        "    def __init__(self, name, roll_number):\n",
        "        self.name = name\n",
        "        self.roll_number = roll_number\n",
        "\n",
        "student1 = Student(\"Aditya\", 101)\n",
        "\n",
        "print(\"Name:\", student1.name)\n",
        "print(\"Roll Number:\", student1.roll_number)"
      ],
      "execution_count": null,
      "outputs": [
        {
          "output_type": "stream",
          "name": "stdout",
          "text": [
            "Name: Aditya\n",
            "Roll Number: 101\n"
          ]
        }
      ]
    },
    {
      "cell_type": "markdown",
      "metadata": {
        "id": "8qtugqEInoFI"
      },
      "source": [
        "## Q2. Add a Method to a Class\n",
        "\n",
        "Extend your `Student` class to include a method named `display_info()` that prints the student's name and roll number in a proper sentence.\n",
        "\n",
        "**Goal:** Learn how to define methods inside a class."
      ]
    },
    {
      "cell_type": "code",
      "metadata": {
        "id": "a7QK5IBVnoFJ",
        "outputId": "2b0d8ca8-547f-4ad8-c539-2a06187a9f50",
        "colab": {
          "base_uri": "https://localhost:8080/"
        }
      },
      "source": [
        "class Student:\n",
        "    def __init__(self, name, roll_number):\n",
        "        self.name = name\n",
        "        self.roll_number = roll_number\n",
        "\n",
        "    def display_info(self):\n",
        "        print(f\"Student Name: {self.name}, Roll Number: {self.roll_number}\")\n",
        "\n",
        "student1 = Student(\"Aditya\", 101)\n",
        "\n",
        "student1.display_info()\n"
      ],
      "execution_count": null,
      "outputs": [
        {
          "output_type": "stream",
          "name": "stdout",
          "text": [
            "Student Name: Aditya, Roll Number: 101\n"
          ]
        }
      ]
    },
    {
      "cell_type": "markdown",
      "metadata": {
        "id": "Hbxw2v30noFJ"
      },
      "source": [
        "## Q3. Employee Salary Class\n",
        "\n",
        "Create a class `Employee` that has:\n",
        "- `name` and `salary` attributes\n",
        "- a method `bonus()` that adds 10% bonus to the salary and prints the new salary.\n",
        "\n",
        "**Hint:** Bonus = `salary * 0.10`"
      ]
    },
    {
      "cell_type": "code",
      "metadata": {
        "id": "0hX7fLbEnoFJ",
        "outputId": "befca1fe-986d-456d-c71b-9997af7f8655",
        "colab": {
          "base_uri": "https://localhost:8080/"
        }
      },
      "source": [
        "\n",
        "class Employee:\n",
        "    def __init__(self, name, salary):\n",
        "        self.name = name\n",
        "        self.salary = salary\n",
        "\n",
        "    def bonus(self):\n",
        "        bonus_amount = self.salary * 0.10\n",
        "        self.salary += bonus_amount\n",
        "        print(f\"{self.name}'s new salary after bonus is: ₹{self.salary}\")\n",
        "\n",
        "emp1 = Employee(\"Aditya\", 50000)\n",
        "\n",
        "emp1.bonus()\n"
      ],
      "execution_count": null,
      "outputs": [
        {
          "output_type": "stream",
          "name": "stdout",
          "text": [
            "Aditya's new salary after bonus is: ₹55000.0\n"
          ]
        }
      ]
    },
    {
      "cell_type": "markdown",
      "metadata": {
        "id": "se7-VekQnoFJ"
      },
      "source": [
        "## Q4. Encapsulation Example\n",
        "\n",
        "Create a class `BankAccount` with a private attribute `__balance`.\n",
        "- Create methods `deposit(amount)` and `get_balance()`.\n",
        "- Prevent direct access to `__balance`.\n",
        "\n",
        "**Hint:** Use double underscores (`__`) before variable name to make it private."
      ]
    },
    {
      "cell_type": "code",
      "metadata": {
        "id": "pqSvbQRRnoFK",
        "outputId": "6a168442-5a4f-4438-aea3-d02f5e5cf286",
        "colab": {
          "base_uri": "https://localhost:8080/"
        }
      },
      "source": [
        "class BankAccount:\n",
        "    def __init__(self, owner, balance):\n",
        "        self.owner = owner\n",
        "        self.__balance = balance  # Private attribute\n",
        "\n",
        "    def deposit(self, amount):\n",
        "        if amount > 0:\n",
        "            self.__balance += amount\n",
        "            print(f\"Deposited ₹{amount}. New balance: ₹{self.__balance}\")\n",
        "        else:\n",
        "            print(\"Deposit amount must be positive.\")\n",
        "\n",
        "    def get_balance(self):\n",
        "        return self.__balance\n",
        "\n",
        "\n",
        "acc = BankAccount(\"Aditya\", 5000)\n",
        "\n",
        "acc.deposit(1500)\n",
        "print(f\"Current balance: ₹{acc.get_balance()}\")\n",
        "\n"
      ],
      "execution_count": null,
      "outputs": [
        {
          "output_type": "stream",
          "name": "stdout",
          "text": [
            "Deposited ₹1500. New balance: ₹6500\n",
            "Current balance: ₹6500\n"
          ]
        }
      ]
    },
    {
      "cell_type": "markdown",
      "metadata": {
        "id": "Yuy41M52noFK"
      },
      "source": [
        "## Q5. Inheritance Example (Simple One)\n",
        "\n",
        "Create two classes:\n",
        "- `Person` → has attribute `name` and method `speak()` that prints \"Hello, I am [name]\"\n",
        "- `DataAnalyst` → inherits from `Person` and adds a new method `analyze()` that prints \"Analyzing data using Python...\"\n",
        "\n",
        "Then create an object of `DataAnalyst` and call both methods."
      ]
    },
    {
      "cell_type": "code",
      "metadata": {
        "id": "XASy1ru9noFK",
        "outputId": "eb67dd6d-a1f8-4bdf-cd5f-02dcee0bd04c",
        "colab": {
          "base_uri": "https://localhost:8080/"
        }
      },
      "source": [
        "\n",
        "class Person:\n",
        "    def __init__(self, name):\n",
        "        self.name = name\n",
        "\n",
        "    def speak(self):\n",
        "        print(f\"Hello, I am {self.name}\")\n",
        "\n",
        "class DataAnalyst(Person):\n",
        "    def analyze(self):\n",
        "        print(\"Analyzing data using Python...\")\n",
        "\n",
        "analyst = DataAnalyst(\"Aditya\")\n",
        "\n",
        "analyst.speak()    # Inherited from Person\n",
        "analyst.analyze()  # Specific to DataAnalyst\n"
      ],
      "execution_count": null,
      "outputs": [
        {
          "output_type": "stream",
          "name": "stdout",
          "text": [
            "Hello, I am Aditya\n",
            "Analyzing data using Python...\n"
          ]
        }
      ]
    },
    {
      "cell_type": "markdown",
      "metadata": {
        "id": "1eYZ6i1SnoFK"
      },
      "source": [
        "## Q6. (Medium Level) Real-Life Problem — Product Sales Tracker\n",
        "\n",
        "You are working as a **Data Analyst** in a retail company.\n",
        "Create a class `Product` with attributes:\n",
        "- `name`\n",
        "- `price`\n",
        "- `quantity`\n",
        "\n",
        "Add the following methods:\n",
        "- `total_value()` → returns total value of product (price × quantity)\n",
        "- `apply_discount(percent)` → reduces the price by given percent.\n",
        "\n",
        "Finally, create two product objects and print their total values **before and after discount.**"
      ]
    },
    {
      "cell_type": "code",
      "metadata": {
        "id": "e_KbiMG6noFK",
        "outputId": "cd3e9b04-0ff3-4bc6-ceb9-daeae781410b",
        "colab": {
          "base_uri": "https://localhost:8080/"
        }
      },
      "source": [
        "\n",
        "class Product:\n",
        "    def __init__(self, name, price, quantity):\n",
        "        self.name = name\n",
        "        self.price = price\n",
        "        self.quantity = quantity\n",
        "\n",
        "    def total_value(self):\n",
        "        return self.price * self.quantity\n",
        "\n",
        "    def apply_discount(self, percent):\n",
        "        discount_amount = self.price * (percent / 100)\n",
        "        self.price -= discount_amount\n",
        "        print(f\"{self.name} price after {percent}% discount: ₹{self.price}\")\n",
        "\n",
        "\n",
        "product1 = Product(\"Laptop\", 50000, 5)\n",
        "product2 = Product(\"Headphones\", 2000, 10)\n",
        "\n",
        "print(f\"{product1.name} total value before discount: ₹{product1.total_value()}\")\n",
        "print(f\"{product2.name} total value before discount: ₹{product2.total_value()}\")\n",
        "\n",
        "product1.apply_discount(10)  # 10% discount\n",
        "product2.apply_discount(20)  # 20% discount\n",
        "\n",
        "print(f\"{product1.name} total value after discount: ₹{product1.total_value()}\")\n",
        "print(f\"{product2.name} total value after discount: ₹{product2.total_value()}\")\n"
      ],
      "execution_count": null,
      "outputs": [
        {
          "output_type": "stream",
          "name": "stdout",
          "text": [
            "Laptop total value before discount: ₹250000\n",
            "Headphones total value before discount: ₹20000\n",
            "Laptop price after 10% discount: ₹45000.0\n",
            "Headphones price after 20% discount: ₹1600.0\n",
            "Laptop total value after discount: ₹225000.0\n",
            "Headphones total value after discount: ₹16000.0\n"
          ]
        }
      ]
    },
    {
      "cell_type": "markdown",
      "metadata": {
        "id": "FFjJ0An4noFK"
      },
      "source": [
        "\n",
        "\n",
        "##_Remember: Practice builds clarity._"
      ]
    }
  ],
  "metadata": {
    "kernelspec": {
      "display_name": "Python 3",
      "language": "python",
      "name": "python3"
    },
    "language_info": {
      "name": "python",
      "version": "3.10"
    },
    "colab": {
      "provenance": [],
      "include_colab_link": true
    }
  },
  "nbformat": 4,
  "nbformat_minor": 0
}